{
  "nbformat": 4,
  "nbformat_minor": 0,
  "metadata": {
    "colab": {
      "name": "forecasting_VAR.ipynb",
      "provenance": [],
      "collapsed_sections": []
    },
    "kernelspec": {
      "name": "python3",
      "display_name": "Python 3"
    }
  },
  "cells": [
    {
      "cell_type": "code",
      "metadata": {
        "id": "ICUe2LxQDvSH"
      },
      "source": [
        "import numpy as np\n",
        "import matplotlib.pyplot as plt\n",
        "import pandas as pd\n",
        "import warnings\n",
        "warnings.filterwarnings('ignore')\n",
        "import math\n",
        "from sklearn.metrics import mean_squared_error"
      ],
      "execution_count": null,
      "outputs": []
    },
    {
      "cell_type": "code",
      "metadata": {
        "colab": {
          "base_uri": "https://localhost:8080/",
          "height": 202
        },
        "id": "cVoHs8U-D1Uh",
        "outputId": "b17b3d97-c8d9-43a6-845b-9e753dd61737"
      },
      "source": [
        "df = pd.read_csv('/content/data_2005.csv')\n",
        "data = df[['Time', 'Rain_rate','Rain_Attenuation']]\n",
        "data.head()"
      ],
      "execution_count": null,
      "outputs": [
        {
          "output_type": "execute_result",
          "data": {
            "text/html": [
              "<div>\n",
              "<style scoped>\n",
              "    .dataframe tbody tr th:only-of-type {\n",
              "        vertical-align: middle;\n",
              "    }\n",
              "\n",
              "    .dataframe tbody tr th {\n",
              "        vertical-align: top;\n",
              "    }\n",
              "\n",
              "    .dataframe thead th {\n",
              "        text-align: right;\n",
              "    }\n",
              "</style>\n",
              "<table border=\"1\" class=\"dataframe\">\n",
              "  <thead>\n",
              "    <tr style=\"text-align: right;\">\n",
              "      <th></th>\n",
              "      <th>Time</th>\n",
              "      <th>Rain_rate</th>\n",
              "      <th>Rain_Attenuation</th>\n",
              "    </tr>\n",
              "  </thead>\n",
              "  <tbody>\n",
              "    <tr>\n",
              "      <th>0</th>\n",
              "      <td>2.083222</td>\n",
              "      <td>0.123969</td>\n",
              "      <td>0.277891</td>\n",
              "    </tr>\n",
              "    <tr>\n",
              "      <th>1</th>\n",
              "      <td>2.083502</td>\n",
              "      <td>0.122079</td>\n",
              "      <td>0.374563</td>\n",
              "    </tr>\n",
              "    <tr>\n",
              "      <th>2</th>\n",
              "      <td>2.083782</td>\n",
              "      <td>0.120313</td>\n",
              "      <td>0.309713</td>\n",
              "    </tr>\n",
              "    <tr>\n",
              "      <th>3</th>\n",
              "      <td>2.084062</td>\n",
              "      <td>0.118503</td>\n",
              "      <td>0.406240</td>\n",
              "    </tr>\n",
              "    <tr>\n",
              "      <th>4</th>\n",
              "      <td>2.084342</td>\n",
              "      <td>0.116721</td>\n",
              "      <td>0.329704</td>\n",
              "    </tr>\n",
              "  </tbody>\n",
              "</table>\n",
              "</div>"
            ],
            "text/plain": [
              "       Time  Rain_rate  Rain_Attenuation\n",
              "0  2.083222   0.123969          0.277891\n",
              "1  2.083502   0.122079          0.374563\n",
              "2  2.083782   0.120313          0.309713\n",
              "3  2.084062   0.118503          0.406240\n",
              "4  2.084342   0.116721          0.329704"
            ]
          },
          "metadata": {
            "tags": []
          },
          "execution_count": 3
        }
      ]
    },
    {
      "cell_type": "code",
      "metadata": {
        "id": "ublLpsQnD54V"
      },
      "source": [
        "def decimal_time(time):\n",
        "    hours = int(time)\n",
        "    minutes = (time*60) % 60\n",
        "    seconds = (time*3600) % 60\n",
        "    f =  (time*3600000000) % 1000000\n",
        "    return (\"%d:%02d:%02d.%03d\" % (hours, minutes, seconds,f))"
      ],
      "execution_count": null,
      "outputs": []
    },
    {
      "cell_type": "code",
      "metadata": {
        "colab": {
          "base_uri": "https://localhost:8080/",
          "height": 418
        },
        "id": "MyO9LZpbEU2C",
        "outputId": "15f41d36-2bd0-4e59-9710-6c0b3013c953"
      },
      "source": [
        "data['Time'] = data['Time'].apply(lambda x : decimal_time(x))\n",
        "data['Time'] = pd.to_datetime(data['Time'], format='%H:%M:%S.%f')\n",
        "data = data.drop_duplicates(subset = ['Time'])\n",
        "print(data.shape, df.shape)\n",
        "data1 = data.set_index('Time')\n",
        "print(data.head())\n",
        "data1.plot()"
      ],
      "execution_count": null,
      "outputs": [
        {
          "output_type": "stream",
          "text": [
            "(87369, 3) (87387, 4)\n",
            "                        Time  Rain_rate  Rain_Attenuation\n",
            "0 1900-01-01 02:04:59.599919   0.123969          0.277891\n",
            "1 1900-01-01 02:05:00.607920   0.122079          0.374563\n",
            "2 1900-01-01 02:05:01.615920   0.120313          0.309713\n",
            "3 1900-01-01 02:05:02.623920   0.118503          0.406240\n",
            "4 1900-01-01 02:05:03.631920   0.116721          0.329704\n"
          ],
          "name": "stdout"
        },
        {
          "output_type": "execute_result",
          "data": {
            "text/plain": [
              "<matplotlib.axes._subplots.AxesSubplot at 0x7ff17970cb10>"
            ]
          },
          "metadata": {
            "tags": []
          },
          "execution_count": 5
        },
        {
          "output_type": "display_data",
          "data": {
            "image/png": "[encoded data removed]",
            "text/plain": [
              "<Figure size 432x288 with 1 Axes>"
            ]
          },
          "metadata": {
            "tags": [],
            "needs_background": "light"
          }
        }
      ]
    },
    {
      "cell_type": "code",
      "metadata": {
        "colab": {
          "base_uri": "https://localhost:8080/"
        },
        "id": "WZUi0la0EVTD",
        "outputId": "f8f42d15-e413-48c9-aaf6-cedba8120f2a"
      },
      "source": [
        "from statsmodels.tsa.vector_ar.vecm import coint_johansen\n",
        "coint_johansen(data1,-1,1).eig"
      ],
      "execution_count": null,
      "outputs": [
        {
          "output_type": "execute_result",
          "data": {
            "text/plain": [
              "array([0.23147758, 0.04166872])"
            ]
          },
          "metadata": {
            "tags": []
          },
          "execution_count": 6
        }
      ]
    },
    {
      "cell_type": "code",
      "metadata": {
        "id": "-cUd3ClgE0Zi",
        "colab": {
          "base_uri": "https://localhost:8080/"
        },
        "outputId": "c941c63b-5d98-42cf-f544-ac24d950ca48"
      },
      "source": [
        "train = data1[:int(0.8*(len(data1)))]\n",
        "valid = data1[int(0.8*(len(data1))):]\n",
        "\n",
        "#fit the model\n",
        "from statsmodels.tsa.vector_ar.var_model import VAR\n",
        "\n",
        "model = VAR(endog=train)\n",
        "model_fit = model.fit()\n",
        "\n",
        "# make prediction on validation\n",
        "prediction = model_fit.forecast(model_fit.y, steps=len(valid))"
      ],
      "execution_count": null,
      "outputs": [
        {
          "output_type": "stream",
          "text": [
            "/usr/local/lib/python3.7/dist-packages/statsmodels/tsa/base/tsa_model.py:219: ValueWarning: A date index has been provided, but it has no associated frequency information and so will be ignored when e.g. forecasting.\n",
            "  ' ignored when e.g. forecasting.', ValueWarning)\n"
          ],
          "name": "stderr"
        }
      ]
    },
    {
      "cell_type": "code",
      "metadata": {
        "colab": {
          "base_uri": "https://localhost:8080/"
        },
        "id": "taMBEqz0F_D6",
        "outputId": "b05c6feb-e1e4-4f0e-a575-3375d55b6621"
      },
      "source": [
        "cols = ['Rain_rate','Rain_Attenuation']\n",
        "pred = pd.DataFrame(index=valid.index,columns= cols)\n",
        "for j in range(0,2):\n",
        "    for i in range(0, len(prediction)):\n",
        "       pred.iloc[i][j] = prediction[i][j]\n",
        "#check rmse\n",
        "for i in cols:\n",
        "    print('rmse value for', i, 'is : ', math.sqrt(mean_squared_error(pred[i], valid[i])))"
      ],
      "execution_count": null,
      "outputs": [
        {
          "output_type": "stream",
          "text": [
            "rmse value for Rain_rate is :  18.37086334367974\n",
            "rmse value for Rain_Attenuation is :  2.1288606024781167\n"
          ],
          "name": "stdout"
        }
      ]
    },
    {
      "cell_type": "code",
      "metadata": {
        "colab": {
          "base_uri": "https://localhost:8080/"
        },
        "id": "5sQf8Xv6LYgQ",
        "outputId": "9fd52aaa-923b-4573-b2ca-615a051f3d5e"
      },
      "source": [
        "pred['Rain_Attenuation'].head(10)"
      ],
      "execution_count": null,
      "outputs": [
        {
          "output_type": "execute_result",
          "data": {
            "text/plain": [
              "Time\n",
              "1900-01-01 08:48:10.771919    3.15273\n",
              "1900-01-01 08:48:10.976040    3.36831\n",
              "1900-01-01 08:48:11.328119    3.37776\n",
              "1900-01-01 08:48:11.779919    3.37828\n",
              "1900-01-01 08:48:11.984040    3.37831\n",
              "1900-01-01 08:48:12.336119    3.37831\n",
              "1900-01-01 08:48:12.787920    3.37831\n",
              "1900-01-01 08:48:12.992040    3.37831\n",
              "1900-01-01 08:48:13.344119    3.37831\n",
              "1900-01-01 08:48:13.795919    3.37831\n",
              "Name: Rain_Attenuation, dtype: object"
            ]
          },
          "metadata": {
            "tags": []
          },
          "execution_count": 9
        }
      ]
    },
    {
      "cell_type": "code",
      "metadata": {
        "colab": {
          "base_uri": "https://localhost:8080/"
        },
        "id": "nPpWL4qhL2eA",
        "outputId": "79808e28-8f44-4a75-977c-6467bbab7279"
      },
      "source": [
        "valid['Rain_Attenuation'].head(10)"
      ],
      "execution_count": null,
      "outputs": [
        {
          "output_type": "execute_result",
          "data": {
            "text/plain": [
              "Time\n",
              "1900-01-01 08:48:10.771919    6.202728\n",
              "1900-01-01 08:48:10.976040    0.532770\n",
              "1900-01-01 08:48:11.328119    0.636361\n",
              "1900-01-01 08:48:11.779919    6.142526\n",
              "1900-01-01 08:48:11.984040    0.640919\n",
              "1900-01-01 08:48:12.336119    0.486393\n",
              "1900-01-01 08:48:12.787920    6.109653\n",
              "1900-01-01 08:48:12.992040    0.938026\n",
              "1900-01-01 08:48:13.344119    0.800877\n",
              "1900-01-01 08:48:13.795919    6.092459\n",
              "Name: Rain_Attenuation, dtype: float64"
            ]
          },
          "metadata": {
            "tags": []
          },
          "execution_count": 10
        }
      ]
    },
    {
      "cell_type": "code",
      "metadata": {
        "id": "koRR8vW0OeiO",
        "colab": {
          "base_uri": "https://localhost:8080/",
          "height": 330
        },
        "outputId": "7298e581-c196-4aa1-a0d1-5f27212988da"
      },
      "source": [
        "plt.plot(pred.index,pred['Rain_Attenuation'])\n",
        "plt.title('Predicted')\n",
        "plt.ylabel('Rain Attenuation')\n",
        "plt.xticks(rotation=90)\n",
        "plt.xlabel('Time')\n",
        "plt.show()"
      ],
      "execution_count": null,
      "outputs": [
        {
          "output_type": "display_data",
          "data": {
            "image/png": "[encoded data removed]",
            "text/plain": [
              "<Figure size 432x288 with 1 Axes>"
            ]
          },
          "metadata": {
            "tags": [],
            "needs_background": "light"
          }
        }
      ]
    },
    {
      "cell_type": "code",
      "metadata": {
        "colab": {
          "base_uri": "https://localhost:8080/",
          "height": 330
        },
        "id": "5VZwFbQrlbPE",
        "outputId": "446f5007-bc2a-457c-c2bb-4ed53dea954e"
      },
      "source": [
        "plt.plot(valid['Rain_Attenuation'], 'ro',color = 'blue', label = 'Actual')\n",
        "plt.plot(pred['Rain_Attenuation'],'r+',  color = 'green', label = 'Predicted')\n",
        "plt.xticks(rotation=90)\n",
        "plt.xlabel('Time')\n",
        "plt.title('Actual(Blue) vs Predicted(Green)')\n",
        "plt.ylabel('Rain Attenuation')\n",
        "plt.show()"
      ],
      "execution_count": null,
      "outputs": [
        {
          "output_type": "display_data",
          "data": {
            "image/png": "[encoded data removed]",
            "text/plain": [
              "<Figure size 432x288 with 1 Axes>"
            ]
          },
          "metadata": {
            "tags": [],
            "needs_background": "light"
          }
        }
      ]
    },
    {
      "cell_type": "code",
      "metadata": {
        "colab": {
          "base_uri": "https://localhost:8080/"
        },
        "id": "whQju-UQL5Ev",
        "outputId": "523f92d8-be5a-46a0-e896-a04c301f5aca"
      },
      "source": [
        "model = VAR(endog=data1)\n",
        "model_fit = model.fit()\n",
        "yhat = model_fit.forecast(model_fit.y, steps=1)\n",
        "print(yhat)"
      ],
      "execution_count": null,
      "outputs": [
        {
          "output_type": "stream",
          "text": [
            "/usr/local/lib/python3.7/dist-packages/statsmodels/tsa/base/tsa_model.py:219: ValueWarning: A date index has been provided, but it has no associated frequency information and so will be ignored when e.g. forecasting.\n",
            "  ' ignored when e.g. forecasting.', ValueWarning)\n"
          ],
          "name": "stderr"
        },
        {
          "output_type": "stream",
          "text": [
            "[[12.00564547  2.70422211]]\n"
          ],
          "name": "stdout"
        }
      ]
    },
    {
      "cell_type": "code",
      "metadata": {
        "id": "vFPUS16MrmMa"
      },
      "source": [
        ""
      ],
      "execution_count": null,
      "outputs": []
    }
  ]
}