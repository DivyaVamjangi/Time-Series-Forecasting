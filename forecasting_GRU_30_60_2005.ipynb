{
  "nbformat": 4,
  "nbformat_minor": 0,
  "metadata": {
    "accelerator": "GPU",
    "colab": {
      "name": "forecasting_GRU_30_60_2005.ipynb",
      "provenance": [],
      "collapsed_sections": []
    },
    "kernelspec": {
      "display_name": "Python 3",
      "name": "python3"
    },
    "language_info": {
      "name": "python"
    }
  },
  "cells": [
    {
      "cell_type": "code",
      "metadata": {
        "id": "voqwtzRHpS7z"
      },
      "source": [
        "import numpy as np\n",
        "import matplotlib.pyplot as plt\n",
        "import pandas as pd\n",
        "import warnings\n",
        "warnings.filterwarnings('ignore')\n",
        "import math\n",
        "from sklearn.metrics import mean_squared_error\n",
        "\n",
        "import keras\n",
        "from keras.models import Model\n",
        "from keras.models import Sequential\n",
        "from keras.layers import Convolution1D, ZeroPadding1D, MaxPooling1D, BatchNormalization, Activation, Dropout, Flatten, Dense\n",
        "from keras.callbacks import EarlyStopping, ModelCheckpoint"
      ],
      "execution_count": null,
      "outputs": []
    },
    {
      "cell_type": "code",
      "metadata": {
        "colab": {
          "base_uri": "https://localhost:8080/",
          "height": 202
        },
        "id": "aHvHZUMmpc_8",
        "outputId": "617418e1-e84a-419d-d028-09415709c6cc"
      },
      "source": [
        "df = pd.read_csv('/content/data_2005.csv')\n",
        "df.head()"
      ],
      "execution_count": null,
      "outputs": [
        {
          "output_type": "execute_result",
          "data": {
            "text/html": [
              "<div>\n",
              "<style scoped>\n",
              "    .dataframe tbody tr th:only-of-type {\n",
              "        vertical-align: middle;\n",
              "    }\n",
              "\n",
              "    .dataframe tbody tr th {\n",
              "        vertical-align: top;\n",
              "    }\n",
              "\n",
              "    .dataframe thead th {\n",
              "        text-align: right;\n",
              "    }\n",
              "</style>\n",
              "<table border=\"1\" class=\"dataframe\">\n",
              "  <thead>\n",
              "    <tr style=\"text-align: right;\">\n",
              "      <th></th>\n",
              "      <th>Unnamed: 0</th>\n",
              "      <th>Time</th>\n",
              "      <th>Rain_rate</th>\n",
              "      <th>Rain_Attenuation</th>\n",
              "    </tr>\n",
              "  </thead>\n",
              "  <tbody>\n",
              "    <tr>\n",
              "      <th>0</th>\n",
              "      <td>0</td>\n",
              "      <td>2.083222</td>\n",
              "      <td>0.123969</td>\n",
              "      <td>0.277891</td>\n",
              "    </tr>\n",
              "    <tr>\n",
              "      <th>1</th>\n",
              "      <td>1</td>\n",
              "      <td>2.083502</td>\n",
              "      <td>0.122079</td>\n",
              "      <td>0.374563</td>\n",
              "    </tr>\n",
              "    <tr>\n",
              "      <th>2</th>\n",
              "      <td>2</td>\n",
              "      <td>2.083782</td>\n",
              "      <td>0.120313</td>\n",
              "      <td>0.309713</td>\n",
              "    </tr>\n",
              "    <tr>\n",
              "      <th>3</th>\n",
              "      <td>3</td>\n",
              "      <td>2.084062</td>\n",
              "      <td>0.118503</td>\n",
              "      <td>0.406240</td>\n",
              "    </tr>\n",
              "    <tr>\n",
              "      <th>4</th>\n",
              "      <td>4</td>\n",
              "      <td>2.084342</td>\n",
              "      <td>0.116721</td>\n",
              "      <td>0.329704</td>\n",
              "    </tr>\n",
              "  </tbody>\n",
              "</table>\n",
              "</div>"
            ],
            "text/plain": [
              "   Unnamed: 0      Time  Rain_rate  Rain_Attenuation\n",
              "0           0  2.083222   0.123969          0.277891\n",
              "1           1  2.083502   0.122079          0.374563\n",
              "2           2  2.083782   0.120313          0.309713\n",
              "3           3  2.084062   0.118503          0.406240\n",
              "4           4  2.084342   0.116721          0.329704"
            ]
          },
          "metadata": {
            "tags": []
          },
          "execution_count": 2
        }
      ]
    },
    {
      "cell_type": "code",
      "metadata": {
        "colab": {
          "base_uri": "https://localhost:8080/",
          "height": 202
        },
        "id": "oTKEbncipduB",
        "outputId": "be2d752d-b763-4efc-d6bb-a5b30c45b487"
      },
      "source": [
        "data = df[['Time','Rain_Attenuation']]\n",
        "data.head()"
      ],
      "execution_count": null,
      "outputs": [
        {
          "output_type": "execute_result",
          "data": {
            "text/html": [
              "<div>\n",
              "<style scoped>\n",
              "    .dataframe tbody tr th:only-of-type {\n",
              "        vertical-align: middle;\n",
              "    }\n",
              "\n",
              "    .dataframe tbody tr th {\n",
              "        vertical-align: top;\n",
              "    }\n",
              "\n",
              "    .dataframe thead th {\n",
              "        text-align: right;\n",
              "    }\n",
              "</style>\n",
              "<table border=\"1\" class=\"dataframe\">\n",
              "  <thead>\n",
              "    <tr style=\"text-align: right;\">\n",
              "      <th></th>\n",
              "      <th>Time</th>\n",
              "      <th>Rain_Attenuation</th>\n",
              "    </tr>\n",
              "  </thead>\n",
              "  <tbody>\n",
              "    <tr>\n",
              "      <th>0</th>\n",
              "      <td>2.083222</td>\n",
              "      <td>0.277891</td>\n",
              "    </tr>\n",
              "    <tr>\n",
              "      <th>1</th>\n",
              "      <td>2.083502</td>\n",
              "      <td>0.374563</td>\n",
              "    </tr>\n",
              "    <tr>\n",
              "      <th>2</th>\n",
              "      <td>2.083782</td>\n",
              "      <td>0.309713</td>\n",
              "    </tr>\n",
              "    <tr>\n",
              "      <th>3</th>\n",
              "      <td>2.084062</td>\n",
              "      <td>0.406240</td>\n",
              "    </tr>\n",
              "    <tr>\n",
              "      <th>4</th>\n",
              "      <td>2.084342</td>\n",
              "      <td>0.329704</td>\n",
              "    </tr>\n",
              "  </tbody>\n",
              "</table>\n",
              "</div>"
            ],
            "text/plain": [
              "       Time  Rain_Attenuation\n",
              "0  2.083222          0.277891\n",
              "1  2.083502          0.374563\n",
              "2  2.083782          0.309713\n",
              "3  2.084062          0.406240\n",
              "4  2.084342          0.329704"
            ]
          },
          "metadata": {
            "tags": []
          },
          "execution_count": 3
        }
      ]
    },
    {
      "cell_type": "code",
      "metadata": {
        "id": "zTBfstLHqNW2"
      },
      "source": [
        "def decimal_time(time):\n",
        "    hours = int(time)\n",
        "    minutes = (time*60) % 60\n",
        "    seconds = (time*3600) % 60\n",
        "    f =  (time*3600000000) % 1000000\n",
        "    return (\"%d:%02d:%02d.%03d\" % (hours, minutes, seconds,f))"
      ],
      "execution_count": null,
      "outputs": []
    },
    {
      "cell_type": "code",
      "metadata": {
        "colab": {
          "base_uri": "https://localhost:8080/",
          "height": 418
        },
        "id": "jqyohelBqNT4",
        "outputId": "1b17c9fd-292a-4929-a6e5-2d3534a81263"
      },
      "source": [
        "data['Time'] = data['Time'].apply(lambda x : decimal_time(x))\n",
        "data['Time'] = pd.to_datetime(data['Time'], format='%H:%M:%S.%f')\n",
        "data = data.drop_duplicates(subset = ['Time'])\n",
        "print(data.shape, df.shape)\n",
        "data1 = data.set_index('Time')\n",
        "print(data.head())\n",
        "data1.plot()"
      ],
      "execution_count": null,
      "outputs": [
        {
          "output_type": "stream",
          "text": [
            "(87369, 2) (87387, 4)\n",
            "                        Time  Rain_Attenuation\n",
            "0 1900-01-01 02:04:59.599919          0.277891\n",
            "1 1900-01-01 02:05:00.607920          0.374563\n",
            "2 1900-01-01 02:05:01.615920          0.309713\n",
            "3 1900-01-01 02:05:02.623920          0.406240\n",
            "4 1900-01-01 02:05:03.631920          0.329704\n"
          ],
          "name": "stdout"
        },
        {
          "output_type": "execute_result",
          "data": {
            "text/plain": [
              "<matplotlib.axes._subplots.AxesSubplot at 0x7fa52d67a950>"
            ]
          },
          "metadata": {
            "tags": []
          },
          "execution_count": 5
        },
        {
          "output_type": "display_data",
          "data": {
            "image/png": "[encoded data removed]",
            "text/plain": [
              "<Figure size 432x288 with 1 Axes>"
            ]
          },
          "metadata": {
            "tags": [],
            "needs_background": "light"
          }
        }
      ]
    },
    {
      "cell_type": "code",
      "metadata": {
        "colab": {
          "base_uri": "https://localhost:8080/"
        },
        "id": "lF7ury17p0JN",
        "outputId": "2cf217dd-d72a-4bfb-e0eb-fcdec1686677"
      },
      "source": [
        "from sklearn.preprocessing import MinMaxScaler\n",
        "dat = data1.values\n",
        "sc = MinMaxScaler(feature_range=(0,1))\n",
        "scaled = sc.fit_transform(dat)\n",
        "\n",
        "train = scaled[:52370, :]\n",
        "val =  scaled[52370:69870,:]\n",
        "test = scaled[69870:, :]\n",
        "train.shape, test.shape, val.shape"
      ],
      "execution_count": null,
      "outputs": [
        {
          "output_type": "execute_result",
          "data": {
            "text/plain": [
              "((52370, 1), (17499, 1), (17500, 1))"
            ]
          },
          "metadata": {
            "tags": []
          },
          "execution_count": 6
        }
      ]
    },
    {
      "cell_type": "code",
      "metadata": {
        "colab": {
          "base_uri": "https://localhost:8080/"
        },
        "id": "msReU7IXp6vL",
        "outputId": "9c0aaa35-6c4a-46b7-aa75-ef9b1c2c030a"
      },
      "source": [
        "x_train = []\n",
        "y_train = []\n",
        "x_test = []\n",
        "y_test = []\n",
        "x_val = []\n",
        "y_val = []\n",
        "\n",
        "n_future = 60\n",
        "n_past = 30\n",
        "\n",
        "for i in range(0,len(train)-n_past-n_future+1):\n",
        "    x_train.append(train[i : i + n_past , 0])     \n",
        "    y_train.append(train[i + n_past : i + n_past + n_future , 0 ])\n",
        "\n",
        "for i in range(0,len(val)-n_past-n_future+1):\n",
        "    x_val.append(val[i : i + n_past , 0])     \n",
        "    y_val.append(val[i + n_past : i + n_past + n_future , 0 ])\n",
        "\n",
        "for i in range(0,len(test)-n_past-n_future+1):\n",
        "    x_test.append(test[i : i + n_past , 0])     \n",
        "    y_test.append(test[i + n_past : i + n_past + n_future , 0 ])\n",
        "\n",
        "\n",
        "x_train , y_train = np.array(x_train), np.array(y_train)\n",
        "x_test , y_test = np.array(x_test), np.array(y_test)\n",
        "x_val , y_val = np.array(x_val), np.array(y_val)\n",
        "\n",
        "x_train = np.reshape(x_train, (x_train.shape[0] , x_train.shape[1], 1) )\n",
        "x_test = np.reshape(x_test, (x_test.shape[0] , x_test.shape[1], 1))\n",
        "x_val = np.reshape(x_val, (x_val.shape[0] , x_val.shape[1], 1))\n",
        "\n",
        "x_train.shape,y_train.shape, x_test.shape,y_test.shape, x_val.shape, y_val.shape"
      ],
      "execution_count": null,
      "outputs": [
        {
          "output_type": "execute_result",
          "data": {
            "text/plain": [
              "((52281, 30, 1),\n",
              " (52281, 60),\n",
              " (17410, 30, 1),\n",
              " (17410, 60),\n",
              " (17411, 30, 1),\n",
              " (17411, 60))"
            ]
          },
          "metadata": {
            "tags": []
          },
          "execution_count": 7
        }
      ]
    },
    {
      "cell_type": "code",
      "metadata": {
        "colab": {
          "base_uri": "https://localhost:8080/"
        },
        "id": "1fm9CQ_On-pm",
        "outputId": "8cf5bea1-368d-4e95-efe7-19604b5329f6"
      },
      "source": [
        "from keras.models import Sequential\n",
        "from keras.layers import GRU,Dense ,Dropout,Bidirectional\n",
        "from keras.callbacks import EarlyStopping, ModelCheckpoint\n",
        "\n",
        "model = Sequential()\n",
        "\n",
        "model.add(Bidirectional(GRU(units=2048, return_sequences=True, input_shape = (x_train.shape[1],1))))\n",
        "model.add(Dropout(0.4))\n",
        "\n",
        "model.add(Bidirectional(GRU(units=1024, return_sequences=True)))\n",
        "model.add(Dropout(0.3))\n",
        "\n",
        "model.add(GRU(units= 1024, return_sequences=True))\n",
        "model.add(Dropout(0.3))\n",
        "\n",
        "model.add(GRU(units= 512))\n",
        "model.add(Dropout(0.2))\n",
        "\n",
        "model.add(Dense(units = n_future,activation='linear'))\n",
        "\n",
        "model.compile(optimizer='adam', loss='mean_squared_error')\n",
        "es = EarlyStopping(monitor='val_loss', mode='min', verbose=1, patience= 2)\n",
        "history = model.fit(x_train, y_train, epochs= 5, batch_size= 32 , validation_data=(x_val, y_val), callbacks = [es], verbose = 1)"
      ],
      "execution_count": null,
      "outputs": [
        {
          "output_type": "stream",
          "text": [
            "Epoch 1/5\n",
            "1634/1634 [==============================] - 1074s 648ms/step - loss: 0.0316 - val_loss: 0.0031\n",
            "Epoch 2/5\n",
            "1634/1634 [==============================] - 1053s 644ms/step - loss: 0.0059 - val_loss: 0.0026\n",
            "Epoch 3/5\n",
            "1634/1634 [==============================] - 1055s 646ms/step - loss: 0.0051 - val_loss: 0.0034\n",
            "Epoch 4/5\n",
            "1634/1634 [==============================] - 1053s 645ms/step - loss: 0.0048 - val_loss: 0.0022\n",
            "Epoch 5/5\n",
            "1634/1634 [==============================] - 1054s 645ms/step - loss: 0.0046 - val_loss: 0.0026\n"
          ],
          "name": "stdout"
        }
      ]
    },
    {
      "cell_type": "code",
      "metadata": {
        "colab": {
          "base_uri": "https://localhost:8080/"
        },
        "id": "ouVCNJR4f0O-",
        "outputId": "98583e12-22aa-4be1-8043-29f15952acd7"
      },
      "source": [
        "model.summary()"
      ],
      "execution_count": null,
      "outputs": [
        {
          "output_type": "stream",
          "text": [
            "Model: \"sequential_1\"\n",
            "_________________________________________________________________\n",
            "Layer (type)                 Output Shape              Param #   \n",
            "=================================================================\n",
            "bidirectional_2 (Bidirection (None, 30, 4096)          25202688  \n",
            "_________________________________________________________________\n",
            "dropout_4 (Dropout)          (None, 30, 4096)          0         \n",
            "_________________________________________________________________\n",
            "bidirectional_3 (Bidirection (None, 30, 2048)          31469568  \n",
            "_________________________________________________________________\n",
            "dropout_5 (Dropout)          (None, 30, 2048)          0         \n",
            "_________________________________________________________________\n",
            "gru_6 (GRU)                  (None, 30, 1024)          9443328   \n",
            "_________________________________________________________________\n",
            "dropout_6 (Dropout)          (None, 30, 1024)          0         \n",
            "_________________________________________________________________\n",
            "gru_7 (GRU)                  (None, 512)               2362368   \n",
            "_________________________________________________________________\n",
            "dropout_7 (Dropout)          (None, 512)               0         \n",
            "_________________________________________________________________\n",
            "dense_1 (Dense)              (None, 60)                30780     \n",
            "=================================================================\n",
            "Total params: 68,508,732\n",
            "Trainable params: 68,508,732\n",
            "Non-trainable params: 0\n",
            "_________________________________________________________________\n"
          ],
          "name": "stdout"
        }
      ]
    },
    {
      "cell_type": "code",
      "metadata": {
        "colab": {
          "base_uri": "https://localhost:8080/",
          "height": 279
        },
        "id": "5CLaqSp2f0L7",
        "outputId": "ff6af7ad-ddc5-4135-caed-3c486c59891b"
      },
      "source": [
        "plt.plot(history.history['loss'])\n",
        "plt.plot(history.history['val_loss'])\n",
        "plt.xlabel('epoch')\n",
        "plt.ylabel('Loss')\n",
        "plt.legend(['train', 'validation'])\n",
        "\n",
        "plt.show()"
      ],
      "execution_count": null,
      "outputs": [
        {
          "output_type": "display_data",
          "data": {
            "image/png": "[encoded data removed]",
            "text/plain": [
              "<Figure size 432x288 with 1 Axes>"
            ]
          },
          "metadata": {
            "tags": [],
            "needs_background": "light"
          }
        }
      ]
    },
    {
      "cell_type": "code",
      "metadata": {
        "id": "hQFKZf1cf0I2",
        "colab": {
          "base_uri": "https://localhost:8080/"
        },
        "outputId": "11457309-a51a-4060-d4ef-1fae303ca911"
      },
      "source": [
        "predicted = model.predict(x_test)\n",
        "predicted = np.reshape(predicted,(predicted.shape[0],predicted.shape[1]))\n",
        "predicted = sc.inverse_transform(predicted)\n",
        "ttest = sc.inverse_transform(y_test)\n",
        "score = math.sqrt(mean_squared_error(ttest,predicted))\n",
        "print(\"The rmse score of Rain Attenuation : \",score)"
      ],
      "execution_count": null,
      "outputs": [
        {
          "output_type": "stream",
          "text": [
            "The rmse score of Rain Attenuation :  0.7143300147838241\n"
          ],
          "name": "stdout"
        }
      ]
    },
    {
      "cell_type": "code",
      "metadata": {
        "id": "QMHiJvD7f0Gc",
        "colab": {
          "base_uri": "https://localhost:8080/",
          "height": 295
        },
        "outputId": "5693e6e7-1625-4b1e-9e2e-3524fe6079af"
      },
      "source": [
        "plt.plot(ttest, 'ro',color = 'blue', label = 'Actual')\n",
        "plt.plot(predicted,'r+',  color = 'green', label = 'Predicted')\n",
        "plt.title('Actual(Blue) vs Predicted(Green)')\n",
        "plt.ylabel('Rain Attenuation')\n",
        "plt.xlabel('Time')\n",
        "plt.show()"
      ],
      "execution_count": null,
      "outputs": [
        {
          "output_type": "display_data",
          "data": {
            "image/png": "[encoded data removed]",
            "text/plain": [
              "<Figure size 432x288 with 1 Axes>"
            ]
          },
          "metadata": {
            "tags": [],
            "needs_background": "light"
          }
        }
      ]
    },
    {
      "cell_type": "code",
      "metadata": {
        "id": "s2i86Y3wf-Kt",
        "colab": {
          "base_uri": "https://localhost:8080/",
          "height": 295
        },
        "outputId": "5c0f591a-8346-4e30-f4eb-532ee476ed6a"
      },
      "source": [
        "plt.plot(predicted, 'g')\n",
        "plt.title('Predicted')\n",
        "plt.ylabel('Rain Attenuation')\n",
        "plt.xlabel('Time')\n",
        "plt.show()"
      ],
      "execution_count": null,
      "outputs": [
        {
          "output_type": "display_data",
          "data": {
            "image/png": "[encoded data removed]",
            "text/plain": [
              "<Figure size 432x288 with 1 Axes>"
            ]
          },
          "metadata": {
            "tags": [],
            "needs_background": "light"
          }
        }
      ]
    },
    {
      "cell_type": "code",
      "metadata": {
        "id": "JWO4q6YmVwYs",
        "colab": {
          "base_uri": "https://localhost:8080/",
          "height": 295
        },
        "outputId": "d5751686-17f7-4f2e-ee2d-122f2d7d195f"
      },
      "source": [
        "plt.plot(ttest, 'b')\n",
        "plt.title('Actual')\n",
        "plt.ylabel('Rain Attenuation')\n",
        "plt.xlabel('Time')\n",
        "plt.show()"
      ],
      "execution_count": null,
      "outputs": [
        {
          "output_type": "display_data",
          "data": {
            "image/png": "[encoded data removed]",
            "text/plain": [
              "<Figure size 432x288 with 1 Axes>"
            ]
          },
          "metadata": {
            "tags": [],
            "needs_background": "light"
          }
        }
      ]
    },
    {
      "cell_type": "code",
      "metadata": {
        "id": "P-VMQlUnf-Hd",
        "colab": {
          "base_uri": "https://localhost:8080/"
        },
        "outputId": "5c370aa9-2a2f-41da-b59e-b52d095a9c22"
      },
      "source": [
        "t =  model.predict(x_train)\n",
        "t = np.reshape(t,(t.shape[0],t.shape[1]))\n",
        "t = sc.inverse_transform(t)\n",
        "ttrain = sc.inverse_transform(y_train)\n",
        "score1 = math.sqrt(mean_squared_error(ttrain,t))\n",
        "print(\"The rmse score of Rain Attenuation : \",score1)"
      ],
      "execution_count": null,
      "outputs": [
        {
          "output_type": "stream",
          "text": [
            "The rmse score of Rain Attenuation :  0.8174823964001862\n"
          ],
          "name": "stdout"
        }
      ]
    },
    {
      "cell_type": "code",
      "metadata": {
        "id": "GiBwictVf-Ff",
        "colab": {
          "base_uri": "https://localhost:8080/"
        },
        "outputId": "5aac87be-2552-410e-e947-96d20c266fba"
      },
      "source": [
        "predicted[:1] # predicted first 60 seconds of rain attenuation"
      ],
      "execution_count": null,
      "outputs": [
        {
          "output_type": "execute_result",
          "data": {
            "text/plain": [
              "array([[1.3985807 , 5.584532  , 0.68902016, 1.3733919 , 5.7157574 ,\n",
              "        0.8417392 , 1.4441028 , 5.192781  , 1.2985994 , 0.85202956,\n",
              "        5.6961846 , 1.071207  , 1.4791882 , 5.232025  , 1.4035028 ,\n",
              "        1.3196082 , 5.622366  , 0.82866454, 1.0735173 , 5.592204  ,\n",
              "        1.3888446 , 1.0908307 , 5.6677275 , 0.7060631 , 1.2633452 ,\n",
              "        5.5641284 , 1.0030508 , 1.2551792 , 5.6311607 , 0.5140262 ,\n",
              "        1.7941225 , 5.119568  , 1.0085195 , 1.2780439 , 5.0447454 ,\n",
              "        1.4446542 , 1.5031809 , 4.803402  , 1.5256655 , 0.8022239 ,\n",
              "        5.936196  , 0.90826064, 1.0770222 , 5.5771227 , 0.8159013 ,\n",
              "        1.2695993 , 5.798538  , 0.80712825, 1.4540846 , 5.108766  ,\n",
              "        1.2269826 , 1.5364958 , 5.3408875 , 0.8392149 , 1.7647804 ,\n",
              "        5.4496427 , 1.1945919 , 1.258873  , 5.1652703 , 1.2278391 ]],\n",
              "      dtype=float32)"
            ]
          },
          "metadata": {
            "tags": []
          },
          "execution_count": 17
        }
      ]
    },
    {
      "cell_type": "code",
      "metadata": {
        "id": "csaIX3GFgDuy",
        "colab": {
          "base_uri": "https://localhost:8080/"
        },
        "outputId": "3b22b17a-ef22-45cd-93cd-a0a3513e5833"
      },
      "source": [
        "ttest[:1]# actual first 60 seconds of rain attenuation"
      ],
      "execution_count": null,
      "outputs": [
        {
          "output_type": "execute_result",
          "data": {
            "text/plain": [
              "array([[0.4863931 , 6.1096525 , 0.93802633, 0.80087681, 6.0924591 ,\n",
              "        0.57946145, 0.47976963, 6.6557815 , 0.64998772, 0.70990312,\n",
              "        6.2856115 , 0.44567526, 0.82983904, 6.1649184 , 0.80096164,\n",
              "        0.63962572, 6.1103466 , 0.81093895, 0.63842396, 6.2718592 ,\n",
              "        0.85456189, 0.67741301, 6.5479161 , 0.59402715, 0.77328302,\n",
              "        7.1811098 , 0.43848655, 0.71462997, 6.7417819 , 0.86233653,\n",
              "        0.86406537, 6.327605  , 0.71256264, 0.63866204, 6.2677843 ,\n",
              "        0.39102295, 0.57119504, 6.4135442 , 0.50237194, 0.7004401 ,\n",
              "        6.3500915 , 0.53044744, 0.72251712, 6.3263414 , 0.77745445,\n",
              "        0.6293441 , 7.3442018 , 0.51665262, 0.61349154, 7.1824108 ,\n",
              "        0.54376722, 0.64023796, 6.8949164 , 0.68273749, 0.72967855,\n",
              "        6.7080391 , 0.61972444, 0.64035134, 6.7887398 , 0.60699375]])"
            ]
          },
          "metadata": {
            "tags": []
          },
          "execution_count": 18
        }
      ]
    },
    {
      "cell_type": "code",
      "metadata": {
        "id": "6B3iW1JbgDqh"
      },
      "source": [
        "model_json = model.to_json()\n",
        "with open(\"model.json\", \"w\") as json_file:\n",
        "    json_file.write(model_json)\n",
        "# serialize weights to HDF5\n",
        "model.save_weights(\"model.h5\")"
      ],
      "execution_count": null,
      "outputs": []
    },
    {
      "cell_type": "code",
      "metadata": {
        "id": "fagw9SnPMXxV",
        "colab": {
          "base_uri": "https://localhost:8080/",
          "height": 626
        },
        "outputId": "89a2976a-2ac5-4137-a5bb-9ae6fe7d674c"
      },
      "source": [
        "real_df = pd.read_csv('/content/aug1707.csv')\n",
        "print(real_df.head())\n",
        "\n",
        "real_data = real_df[['Time','Rain_Attenuation']]\n",
        "print(real_data.head())\n",
        "\n",
        "def decimal_time(time):\n",
        "    hours = int(time)\n",
        "    minutes = (time*60) % 60\n",
        "    seconds = (time*3600) % 60\n",
        "    f =  (time*3600000000) % 1000000\n",
        "    return (\"%d:%02d:%02d.%03d\" % (hours, minutes, seconds,f))\n",
        "\n",
        "real_data['Time'] = real_data['Time'].apply(lambda x : decimal_time(x))\n",
        "real_data['Time'] = pd.to_datetime(real_data['Time'], format='%H:%M:%S.%f')\n",
        "real_data = real_data.drop_duplicates(subset = ['Time'])\n",
        "print(real_data.shape, real_df.shape)\n",
        "real_data1 = real_data.set_index('Time')\n",
        "print(real_data.head())\n",
        "real_data1.plot()\n",
        "\n",
        "from sklearn.preprocessing import MinMaxScaler\n",
        "real_dat = real_data1.values\n",
        "sc = MinMaxScaler(feature_range=(0,1))\n",
        "real_test = sc.fit_transform(real_dat)\n",
        "\n",
        "print(real_test.shape)"
      ],
      "execution_count": null,
      "outputs": [
        {
          "output_type": "stream",
          "text": [
            "   Unnamed: 0      Time  Rain_rate  Rain_Attenuation\n",
            "0           0  3.293891   0.099907          0.000361\n",
            "1           1  3.294171   0.099968          0.006667\n",
            "2           2  3.294451   0.100136          0.140382\n",
            "3           3  3.294731   0.100191          0.067730\n",
            "4           4  3.296411   0.099586          0.111982\n",
            "       Time  Rain_Attenuation\n",
            "0  3.293891          0.000361\n",
            "1  3.294171          0.006667\n",
            "2  3.294451          0.140382\n",
            "3  3.294731          0.067730\n",
            "4  3.296411          0.111982\n",
            "(5168, 2) (5168, 4)\n",
            "                        Time  Rain_Attenuation\n",
            "0 1900-01-01 03:17:38.796000          0.000361\n",
            "1 1900-01-01 03:17:39.159600          0.006667\n",
            "2 1900-01-01 03:17:40.239600          0.140382\n",
            "3 1900-01-01 03:17:41.319600          0.067730\n",
            "4 1900-01-01 03:17:47.799600          0.111982\n",
            "(5168, 1)\n"
          ],
          "name": "stdout"
        },
        {
          "output_type": "display_data",
          "data": {
            "image/png": "[encoded data removed]",
            "text/plain": [
              "<Figure size 432x288 with 1 Axes>"
            ]
          },
          "metadata": {
            "tags": [],
            "needs_background": "light"
          }
        }
      ]
    },
    {
      "cell_type": "code",
      "metadata": {
        "colab": {
          "base_uri": "https://localhost:8080/"
        },
        "id": "2Ao_G9VEQw56",
        "outputId": "d5bf90fe-aafa-4900-dcdc-722a06891c9e"
      },
      "source": [
        "real_x_test = []\n",
        "real_y_test = []\n",
        "\n",
        "n_future = 60\n",
        "n_past = 30\n",
        "\n",
        "for i in range(0,len(real_test)-n_past-n_future+1):\n",
        "    real_x_test.append(real_test[i : i + n_past , 0])     \n",
        "    real_y_test.append(real_test[i + n_past : i + n_past + n_future , 0 ])\n",
        "\n",
        "\n",
        "real_x_test , real_y_test = np.array(real_x_test), np.array(real_y_test)\n",
        "real_x_test = np.reshape(real_x_test, (real_x_test.shape[0] , real_x_test.shape[1], 1))\n",
        "\n",
        "real_x_test.shape,real_y_test.shape"
      ],
      "execution_count": null,
      "outputs": [
        {
          "output_type": "execute_result",
          "data": {
            "text/plain": [
              "((5079, 30, 1), (5079, 60))"
            ]
          },
          "metadata": {
            "tags": []
          },
          "execution_count": 22
        }
      ]
    },
    {
      "cell_type": "code",
      "metadata": {
        "id": "i0UiDk0KQw2e"
      },
      "source": [
        "ox = real_x_test[:30, :, :]\n",
        "scores = []\n",
        "actual = []\n",
        "predict = []\n",
        "\n",
        "i = 0\n",
        "while i < (real_x_test.shape[0]-9):\n",
        "  ox = np.reshape(ox, (ox.shape[0] , ox.shape[1], 1))\n",
        "  oy = real_y_test[i:i+30, ]\n",
        "  oy = np.reshape(oy, (oy.shape[0] ,60))\n",
        "  predicted = model.predict(ox)\n",
        "  predicted = np.reshape(predicted,(predicted.shape[0],predicted.shape[1]))\n",
        "  ox = predicted\n",
        "  predicted = sc.inverse_transform(predicted)\n",
        "  ttest = sc.inverse_transform(oy)\n",
        "  score = math.sqrt(mean_squared_error(ttest,predicted))\n",
        "  actual.extend(ttest)\n",
        "  predict.extend(predicted)\n",
        "  scores.append(score)\n",
        "  i = i+30"
      ],
      "execution_count": null,
      "outputs": []
    },
    {
      "cell_type": "code",
      "metadata": {
        "id": "NPJqqHfCQw0I"
      },
      "source": [
        "plt.plot(scores)\n",
        "plt.title('RMSE SCORE')\n",
        "plt.ylabel('rmse value')\n",
        "plt.xlabel('iteration')\n",
        "plt.show()\n"
      ],
      "execution_count": null,
      "outputs": []
    },
    {
      "cell_type": "code",
      "metadata": {
        "id": "V0L_CbxQo41i",
        "colab": {
          "base_uri": "https://localhost:8080/"
        },
        "outputId": "9f8b64e6-7914-4606-ccd6-bbfa6f63402f"
      },
      "source": [
        "actual[1]"
      ],
      "execution_count": null,
      "outputs": [
        {
          "output_type": "execute_result",
          "data": {
            "text/plain": [
              "array([0.12256277, 0.00306133, 0.05123571, 0.1015245 , 0.1372842 ,\n",
              "       0.10681927, 0.31269565, 0.13741728, 0.0447897 , 0.06321313,\n",
              "       0.35605625, 0.05097012, 0.0351227 , 0.04066193, 0.02894479,\n",
              "       0.11262259, 0.24139886, 0.12308283, 0.25137169, 0.21705975,\n",
              "       0.34319876, 0.14606888, 0.24295164, 0.07404669, 0.02159774,\n",
              "       0.10243109, 0.25383495, 0.12437695, 0.19389883, 0.08708235,\n",
              "       0.0714739 , 0.26095866, 0.15822064, 0.36358779, 0.18083971,\n",
              "       0.17282225, 0.02443264, 0.0334454 , 0.06411883, 0.10616646,\n",
              "       0.164419  , 0.23841478, 0.0558717 , 0.02906544, 0.10888661,\n",
              "       0.00203648, 0.14103499, 0.59652683, 0.26109216, 0.31178421,\n",
              "       0.05471265, 0.03216635, 0.0852699 , 0.18394055, 0.36605806,\n",
              "       0.35111712, 0.08475035, 0.17553492, 0.08694943, 0.03525544])"
            ]
          },
          "metadata": {
            "tags": []
          },
          "execution_count": 25
        }
      ]
    },
    {
      "cell_type": "code",
      "metadata": {
        "colab": {
          "base_uri": "https://localhost:8080/"
        },
        "id": "KxHOKeeesmcZ",
        "outputId": "58a17bcd-29aa-4f8d-d4c5-4bf3b43c6bad"
      },
      "source": [
        "p_test = model.predict(real_x_test)\n",
        "p_test = np.reshape(p_test,(p_test.shape[0],p_test.shape[1]))\n",
        "p_test = sc.inverse_transform(p_test)\n",
        "ttest = sc.inverse_transform(real_y_test)\n",
        "score = math.sqrt(mean_squared_error(ttest,p_test))\n",
        "predict[1]"
      ],
      "execution_count": null,
      "outputs": [
        {
          "output_type": "execute_result",
          "data": {
            "text/plain": [
              "array([ 0.13009232,  0.06159108,  0.13355714,  0.18461555,  0.08802088,\n",
              "        0.22753158,  0.00570079,  0.13533875,  0.25177556,  0.153557  ,\n",
              "        0.13066028,  0.07620725,  0.10480543,  0.17813428,  0.24913724,\n",
              "        0.18558091, -0.00416656,  0.14084904,  0.12361109,  0.18433224,\n",
              "        0.23364203,  0.10826683,  0.09992924,  0.1812462 ,  0.11108787,\n",
              "        0.1996969 ,  0.0448379 ,  0.20031367,  0.13586086,  0.1703945 ,\n",
              "        0.18598585,  0.02645495,  0.1415305 ,  0.1896103 ,  0.09868764,\n",
              "        0.26456025,  0.0822257 ,  0.11562087,  0.2183952 ,  0.14603692,\n",
              "        0.13933706,  0.05415535,  0.14569515,  0.23518112,  0.19025728,\n",
              "        0.20382218,  0.02795899,  0.14964701,  0.18690342,  0.1864579 ,\n",
              "        0.27081183,  0.2098861 ,  0.08265045,  0.22142091,  0.22309762,\n",
              "        0.23278135,  0.13529605,  0.24146019,  0.13273981,  0.29177022],\n",
              "      dtype=float32)"
            ]
          },
          "metadata": {
            "tags": []
          },
          "execution_count": 26
        }
      ]
    },
    {
      "cell_type": "code",
      "metadata": {
        "colab": {
          "base_uri": "https://localhost:8080/",
          "height": 573
        },
        "id": "T6WNR4AtwYM1",
        "outputId": "d078b421-c141-49c0-f5a7-45bb4ea7a066"
      },
      "source": [
        "plt.plot(ttest, 'b')\n",
        "plt.title('Actual')\n",
        "plt.ylabel('Rain Attenuation (db)')\n",
        "plt.xlabel('Time (seconds)')\n",
        "plt.show()\n",
        "\n",
        "plt.plot(p_test, 'g')\n",
        "plt.title('Predicted')\n",
        "plt.ylabel('Rain Attenuation (db)')\n",
        "plt.xlabel('Time (seconds)')\n",
        "plt.show()"
      ],
      "execution_count": null,
      "outputs": [
        {
          "output_type": "display_data",
          "data": {
            "image/png": "[encoded data removed]",
            "text/plain": [
              "<Figure size 432x288 with 1 Axes>"
            ]
          },
          "metadata": {
            "tags": [],
            "needs_background": "light"
          }
        },
        {
          "output_type": "display_data",
          "data": {
            "image/png": "[encoded data removed]",
            "text/plain": [
              "<Figure size 432x288 with 1 Axes>"
            ]
          },
          "metadata": {
            "tags": [],
            "needs_background": "light"
          }
        }
      ]
    },
    {
      "cell_type": "code",
      "metadata": {
        "colab": {
          "base_uri": "https://localhost:8080/"
        },
        "id": "M1rQOBdCwhN2",
        "outputId": "1e5af968-32e4-4624-eb7f-b163261a85c9"
      },
      "source": [
        "print(sum(scores)/len(scores))"
      ],
      "execution_count": null,
      "outputs": [
        {
          "output_type": "stream",
          "text": [
            "0.5620213369045617\n"
          ],
          "name": "stdout"
        }
      ]
    },
    {
      "cell_type": "code",
      "metadata": {
        "id": "T6jArr3q0sm2"
      },
      "source": [
        ""
      ],
      "execution_count": null,
      "outputs": []
    }
  ]
}