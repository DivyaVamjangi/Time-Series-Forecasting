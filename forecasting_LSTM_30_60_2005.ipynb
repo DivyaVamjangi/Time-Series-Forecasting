{
  "nbformat": 4,
  "nbformat_minor": 0,
  "metadata": {
    "accelerator": "GPU",
    "colab": {
      "name": "forecasting_LSTM_30_60_2005.ipynb",
      "provenance": [],
      "collapsed_sections": []
    },
    "kernelspec": {
      "display_name": "Python 3",
      "name": "python3"
    }
  },
  "cells": [
    {
      "cell_type": "code",
      "metadata": {
        "id": "ieCXhOo2QOfU"
      },
      "source": [
        "import numpy as np\n",
        "import matplotlib.pyplot as plt\n",
        "import pandas as pd\n",
        "import warnings\n",
        "warnings.filterwarnings('ignore')\n",
        "import math\n",
        "from sklearn.metrics import mean_squared_error"
      ],
      "execution_count": null,
      "outputs": []
    },
    {
      "cell_type": "code",
      "metadata": {
        "colab": {
          "base_uri": "https://localhost:8080/",
          "height": 202
        },
        "id": "VIDDGg1ZCZ8U",
        "outputId": "e6074648-04f6-47b5-f6fe-387a467bdbac"
      },
      "source": [
        "df = pd.read_csv(\"/content/data_2005.csv\")\n",
        "df.head()"
      ],
      "execution_count": null,
      "outputs": [
        {
          "output_type": "execute_result",
          "data": {
            "text/html": [
              "<div>\n",
              "<style scoped>\n",
              "    .dataframe tbody tr th:only-of-type {\n",
              "        vertical-align: middle;\n",
              "    }\n",
              "\n",
              "    .dataframe tbody tr th {\n",
              "        vertical-align: top;\n",
              "    }\n",
              "\n",
              "    .dataframe thead th {\n",
              "        text-align: right;\n",
              "    }\n",
              "</style>\n",
              "<table border=\"1\" class=\"dataframe\">\n",
              "  <thead>\n",
              "    <tr style=\"text-align: right;\">\n",
              "      <th></th>\n",
              "      <th>Unnamed: 0</th>\n",
              "      <th>Time</th>\n",
              "      <th>Rain_rate</th>\n",
              "      <th>Rain_Attenuation</th>\n",
              "    </tr>\n",
              "  </thead>\n",
              "  <tbody>\n",
              "    <tr>\n",
              "      <th>0</th>\n",
              "      <td>0</td>\n",
              "      <td>2.083222</td>\n",
              "      <td>0.123969</td>\n",
              "      <td>0.277891</td>\n",
              "    </tr>\n",
              "    <tr>\n",
              "      <th>1</th>\n",
              "      <td>1</td>\n",
              "      <td>2.083502</td>\n",
              "      <td>0.122079</td>\n",
              "      <td>0.374563</td>\n",
              "    </tr>\n",
              "    <tr>\n",
              "      <th>2</th>\n",
              "      <td>2</td>\n",
              "      <td>2.083782</td>\n",
              "      <td>0.120313</td>\n",
              "      <td>0.309713</td>\n",
              "    </tr>\n",
              "    <tr>\n",
              "      <th>3</th>\n",
              "      <td>3</td>\n",
              "      <td>2.084062</td>\n",
              "      <td>0.118503</td>\n",
              "      <td>0.406240</td>\n",
              "    </tr>\n",
              "    <tr>\n",
              "      <th>4</th>\n",
              "      <td>4</td>\n",
              "      <td>2.084342</td>\n",
              "      <td>0.116721</td>\n",
              "      <td>0.329704</td>\n",
              "    </tr>\n",
              "  </tbody>\n",
              "</table>\n",
              "</div>"
            ],
            "text/plain": [
              "   Unnamed: 0      Time  Rain_rate  Rain_Attenuation\n",
              "0           0  2.083222   0.123969          0.277891\n",
              "1           1  2.083502   0.122079          0.374563\n",
              "2           2  2.083782   0.120313          0.309713\n",
              "3           3  2.084062   0.118503          0.406240\n",
              "4           4  2.084342   0.116721          0.329704"
            ]
          },
          "metadata": {
            "tags": []
          },
          "execution_count": 2
        }
      ]
    },
    {
      "cell_type": "code",
      "metadata": {
        "colab": {
          "base_uri": "https://localhost:8080/",
          "height": 202
        },
        "id": "AZ3Csu2ICZ5d",
        "outputId": "ed68e84e-73de-42c0-f806-f294c60bd9c4"
      },
      "source": [
        "data = df[['Time','Rain_Attenuation']]\n",
        "data.head()"
      ],
      "execution_count": null,
      "outputs": [
        {
          "output_type": "execute_result",
          "data": {
            "text/html": [
              "<div>\n",
              "<style scoped>\n",
              "    .dataframe tbody tr th:only-of-type {\n",
              "        vertical-align: middle;\n",
              "    }\n",
              "\n",
              "    .dataframe tbody tr th {\n",
              "        vertical-align: top;\n",
              "    }\n",
              "\n",
              "    .dataframe thead th {\n",
              "        text-align: right;\n",
              "    }\n",
              "</style>\n",
              "<table border=\"1\" class=\"dataframe\">\n",
              "  <thead>\n",
              "    <tr style=\"text-align: right;\">\n",
              "      <th></th>\n",
              "      <th>Time</th>\n",
              "      <th>Rain_Attenuation</th>\n",
              "    </tr>\n",
              "  </thead>\n",
              "  <tbody>\n",
              "    <tr>\n",
              "      <th>0</th>\n",
              "      <td>2.083222</td>\n",
              "      <td>0.277891</td>\n",
              "    </tr>\n",
              "    <tr>\n",
              "      <th>1</th>\n",
              "      <td>2.083502</td>\n",
              "      <td>0.374563</td>\n",
              "    </tr>\n",
              "    <tr>\n",
              "      <th>2</th>\n",
              "      <td>2.083782</td>\n",
              "      <td>0.309713</td>\n",
              "    </tr>\n",
              "    <tr>\n",
              "      <th>3</th>\n",
              "      <td>2.084062</td>\n",
              "      <td>0.406240</td>\n",
              "    </tr>\n",
              "    <tr>\n",
              "      <th>4</th>\n",
              "      <td>2.084342</td>\n",
              "      <td>0.329704</td>\n",
              "    </tr>\n",
              "  </tbody>\n",
              "</table>\n",
              "</div>"
            ],
            "text/plain": [
              "       Time  Rain_Attenuation\n",
              "0  2.083222          0.277891\n",
              "1  2.083502          0.374563\n",
              "2  2.083782          0.309713\n",
              "3  2.084062          0.406240\n",
              "4  2.084342          0.329704"
            ]
          },
          "metadata": {
            "tags": []
          },
          "execution_count": 3
        }
      ]
    },
    {
      "cell_type": "code",
      "metadata": {
        "id": "1zPfAVifCZ14"
      },
      "source": [
        "def decimal_time(time):\n",
        "    hours = int(time)\n",
        "    minutes = (time*60) % 60\n",
        "    seconds = (time*3600) % 60\n",
        "    f =  (time*3600000000) % 1000000\n",
        "    return (\"%d:%02d:%02d.%03d\" % (hours, minutes, seconds,f))"
      ],
      "execution_count": null,
      "outputs": []
    },
    {
      "cell_type": "code",
      "metadata": {
        "colab": {
          "base_uri": "https://localhost:8080/",
          "height": 418
        },
        "id": "20yF673fCZz_",
        "outputId": "da394229-f4da-460d-d3b2-b98500cd9ca4"
      },
      "source": [
        "data['Time'] = data['Time'].apply(lambda x : decimal_time(x))\n",
        "data['Time'] = pd.to_datetime(data['Time'], format='%H:%M:%S.%f')\n",
        "data = data.drop_duplicates(subset = ['Time'])\n",
        "print(data.shape, df.shape)\n",
        "data1 = data.set_index('Time')\n",
        "print(data.head())\n",
        "data1.plot()"
      ],
      "execution_count": null,
      "outputs": [
        {
          "output_type": "stream",
          "text": [
            "(87369, 2) (87387, 4)\n",
            "                        Time  Rain_Attenuation\n",
            "0 1900-01-01 02:04:59.599919          0.277891\n",
            "1 1900-01-01 02:05:00.607920          0.374563\n",
            "2 1900-01-01 02:05:01.615920          0.309713\n",
            "3 1900-01-01 02:05:02.623920          0.406240\n",
            "4 1900-01-01 02:05:03.631920          0.329704\n"
          ],
          "name": "stdout"
        },
        {
          "output_type": "execute_result",
          "data": {
            "text/plain": [
              "<matplotlib.axes._subplots.AxesSubplot at 0x7f9f12188590>"
            ]
          },
          "metadata": {
            "tags": []
          },
          "execution_count": 5
        },
        {
          "output_type": "display_data",
          "data": {
            "image/png": "[encoded data removed]",
            "text/plain": [
              "<Figure size 432x288 with 1 Axes>"
            ]
          },
          "metadata": {
            "tags": [],
            "needs_background": "light"
          }
        }
      ]
    },
    {
      "cell_type": "code",
      "metadata": {
        "colab": {
          "base_uri": "https://localhost:8080/",
          "height": 279
        },
        "id": "jtluUsb-BOyQ",
        "outputId": "86ab3849-1f5b-4ae2-bfb5-506f09d95492"
      },
      "source": [
        "plt.plot(data1)\n",
        "plt.xlabel('Time (milliseconds)')\n",
        "plt.ylabel('Rain Attenuation (millimeters)')\n",
        "plt.show()"
      ],
      "execution_count": null,
      "outputs": [
        {
          "output_type": "display_data",
          "data": {
            "image/png": "[encoded data removed]",
            "text/plain": [
              "<Figure size 432x288 with 1 Axes>"
            ]
          },
          "metadata": {
            "tags": [],
            "needs_background": "light"
          }
        }
      ]
    },
    {
      "cell_type": "code",
      "metadata": {
        "colab": {
          "base_uri": "https://localhost:8080/"
        },
        "id": "X3TarDpeHVEB",
        "outputId": "cac650fd-b1ae-4630-fe59-56d99a3bb7b2"
      },
      "source": [
        "from sklearn.preprocessing import MinMaxScaler\n",
        "dat = data1.values\n",
        "sc = MinMaxScaler(feature_range=(0,1))\n",
        "scaled = sc.fit_transform(dat)\n",
        "\n",
        "train = scaled[:52370, :]\n",
        "val =  scaled[52370:69870,:]\n",
        "test = scaled[69870:, :]\n",
        "train.shape, test.shape, val.shape"
      ],
      "execution_count": null,
      "outputs": [
        {
          "output_type": "execute_result",
          "data": {
            "text/plain": [
              "((52370, 1), (17499, 1), (17500, 1))"
            ]
          },
          "metadata": {
            "tags": []
          },
          "execution_count": 7
        }
      ]
    },
    {
      "cell_type": "code",
      "metadata": {
        "colab": {
          "base_uri": "https://localhost:8080/"
        },
        "id": "BJlVYQOlCZvd",
        "outputId": "0c97e1ed-a14e-47d4-80bc-12fdb54d7d00"
      },
      "source": [
        "x_train = []\n",
        "y_train = []\n",
        "x_test = []\n",
        "y_test = []\n",
        "x_val = []\n",
        "y_val = []\n",
        "\n",
        "n_future = 60\n",
        "n_past = 30\n",
        "\n",
        "for i in range(0,len(train)-n_past-n_future+1):\n",
        "    x_train.append(train[i : i + n_past , 0])     \n",
        "    y_train.append(train[i + n_past : i + n_past + n_future , 0 ])\n",
        "\n",
        "for i in range(0,len(val)-n_past-n_future+1):\n",
        "    x_val.append(val[i : i + n_past , 0])     \n",
        "    y_val.append(val[i + n_past : i + n_past + n_future , 0 ])\n",
        "\n",
        "for i in range(0,len(test)-n_past-n_future+1):\n",
        "    x_test.append(test[i : i + n_past , 0])     \n",
        "    y_test.append(test[i + n_past : i + n_past + n_future , 0 ])\n",
        "\n",
        "\n",
        "x_train , y_train = np.array(x_train), np.array(y_train)\n",
        "x_test , y_test = np.array(x_test), np.array(y_test)\n",
        "x_val , y_val = np.array(x_val), np.array(y_val)\n",
        "\n",
        "x_train = np.reshape(x_train, (x_train.shape[0] , x_train.shape[1], 1) )\n",
        "x_test = np.reshape(x_test, (x_test.shape[0] , x_test.shape[1], 1))\n",
        "x_val = np.reshape(x_val, (x_val.shape[0] , x_val.shape[1], 1))\n",
        "\n",
        "x_train.shape,y_train.shape, x_test.shape,y_test.shape, x_val.shape, y_val.shape"
      ],
      "execution_count": null,
      "outputs": [
        {
          "output_type": "execute_result",
          "data": {
            "text/plain": [
              "((52281, 30, 1),\n",
              " (52281, 60),\n",
              " (17410, 30, 1),\n",
              " (17410, 60),\n",
              " (17411, 30, 1),\n",
              " (17411, 60))"
            ]
          },
          "metadata": {
            "tags": []
          },
          "execution_count": 8
        }
      ]
    },
    {
      "cell_type": "code",
      "metadata": {
        "id": "E7kDsWdiMCPV",
        "colab": {
          "base_uri": "https://localhost:8080/"
        },
        "outputId": "afda444e-f965-42b0-90f2-2c423ae90668"
      },
      "source": [
        "from keras.models import Sequential\n",
        "from keras.layers import LSTM,Dense ,Dropout,Bidirectional\n",
        "from keras.callbacks import EarlyStopping, ModelCheckpoint\n",
        "\n",
        "model = Sequential()\n",
        "\n",
        "model.add(Bidirectional(LSTM(units=2048, return_sequences=True, input_shape = (x_train.shape[1],1))))\n",
        "model.add(Dropout(0.4))\n",
        "\n",
        "model.add(Bidirectional(LSTM(units=1024, return_sequences=True)))\n",
        "model.add(Dropout(0.3))\n",
        "\n",
        "model.add(LSTM(units= 1024, return_sequences=True))\n",
        "model.add(Dropout(0.3))\n",
        "\n",
        "model.add(LSTM(units= 512))\n",
        "model.add(Dropout(0.2))\n",
        "\n",
        "model.add(Dense(units = n_future,activation='linear'))\n",
        "\n",
        "model.compile(optimizer='adam', loss='mean_squared_error')\n",
        "es = EarlyStopping(monitor='val_loss', mode='min', verbose=1, patience= 2)\n",
        "history = model.fit(x_train, y_train, epochs= 5, batch_size= 32 , validation_data=(x_val, y_val), callbacks = [es], verbose = 1)"
      ],
      "execution_count": null,
      "outputs": [
        {
          "output_type": "stream",
          "text": [
            "Epoch 1/5\n",
            "1634/1634 [==============================] - 412s 239ms/step - loss: 0.0461 - val_loss: 0.0189\n",
            "Epoch 2/5\n",
            "1634/1634 [==============================] - 384s 235ms/step - loss: 0.0354 - val_loss: 0.0231\n",
            "Epoch 3/5\n",
            "1634/1634 [==============================] - 384s 235ms/step - loss: 0.0312 - val_loss: 0.0176\n",
            "Epoch 4/5\n",
            "1634/1634 [==============================] - 385s 236ms/step - loss: 0.0210 - val_loss: 0.0132\n",
            "Epoch 5/5\n",
            "1634/1634 [==============================] - 387s 237ms/step - loss: 0.0140 - val_loss: 0.0107\n"
          ],
          "name": "stdout"
        }
      ]
    },
    {
      "cell_type": "code",
      "metadata": {
        "id": "6xEb_Tlr4sLC",
        "colab": {
          "base_uri": "https://localhost:8080/"
        },
        "outputId": "26c0f471-db45-4ab8-e4d3-16cb048144ae"
      },
      "source": [
        "model.summary()"
      ],
      "execution_count": null,
      "outputs": [
        {
          "output_type": "stream",
          "text": [
            "Model: \"sequential_1\"\n",
            "_________________________________________________________________\n",
            "Layer (type)                 Output Shape              Param #   \n",
            "=================================================================\n",
            "bidirectional_2 (Bidirection (None, 30, 4096)          33587200  \n",
            "_________________________________________________________________\n",
            "dropout_4 (Dropout)          (None, 30, 4096)          0         \n",
            "_________________________________________________________________\n",
            "bidirectional_3 (Bidirection (None, 30, 2048)          41951232  \n",
            "_________________________________________________________________\n",
            "dropout_5 (Dropout)          (None, 30, 2048)          0         \n",
            "_________________________________________________________________\n",
            "lstm_6 (LSTM)                (None, 30, 1024)          12587008  \n",
            "_________________________________________________________________\n",
            "dropout_6 (Dropout)          (None, 30, 1024)          0         \n",
            "_________________________________________________________________\n",
            "lstm_7 (LSTM)                (None, 512)               3147776   \n",
            "_________________________________________________________________\n",
            "dropout_7 (Dropout)          (None, 512)               0         \n",
            "_________________________________________________________________\n",
            "dense_1 (Dense)              (None, 60)                30780     \n",
            "=================================================================\n",
            "Total params: 91,303,996\n",
            "Trainable params: 91,303,996\n",
            "Non-trainable params: 0\n",
            "_________________________________________________________________\n"
          ],
          "name": "stdout"
        }
      ]
    },
    {
      "cell_type": "code",
      "metadata": {
        "id": "1PDcq10UVmI0",
        "colab": {
          "base_uri": "https://localhost:8080/",
          "height": 279
        },
        "outputId": "60d32e50-1a27-41dd-c70b-e0b1a516d58f"
      },
      "source": [
        "plt.plot(history.history['loss'])\n",
        "plt.plot(history.history['val_loss'])\n",
        "plt.xlabel('epoch')\n",
        "plt.ylabel('Loss')\n",
        "plt.legend(['train', 'validation'])\n",
        "\n",
        "plt.show()"
      ],
      "execution_count": null,
      "outputs": [
        {
          "output_type": "display_data",
          "data": {
            "image/png": "[encoded data removed]",
            "text/plain": [
              "<Figure size 432x288 with 1 Axes>"
            ]
          },
          "metadata": {
            "tags": [],
            "needs_background": "light"
          }
        }
      ]
    },
    {
      "cell_type": "code",
      "metadata": {
        "id": "Ep5IGdERHLNt",
        "colab": {
          "base_uri": "https://localhost:8080/"
        },
        "outputId": "9f08958a-25c3-44be-d1c4-8fe0da34e0c0"
      },
      "source": [
        "predicted = model.predict(x_test)\n",
        "predicted = np.reshape(predicted,(predicted.shape[0],predicted.shape[1]))\n",
        "predicted = sc.inverse_transform(predicted)\n",
        "ttest = sc.inverse_transform(y_test)\n",
        "score = math.sqrt(mean_squared_error(ttest,predicted))\n",
        "print(\"The rmse score of Rain Attenuation : \",score)"
      ],
      "execution_count": null,
      "outputs": [
        {
          "output_type": "stream",
          "text": [
            "The rmse score of Rain Attenuation :  0.8151168962451947\n"
          ],
          "name": "stdout"
        }
      ]
    },
    {
      "cell_type": "code",
      "metadata": {
        "id": "PwGHzbU4Iv96",
        "colab": {
          "base_uri": "https://localhost:8080/",
          "height": 295
        },
        "outputId": "6f648d74-14b8-493b-9ba9-046f33f02a8b"
      },
      "source": [
        "plt.plot(ttest, 'ro',color = 'blue', label = 'Actual')\n",
        "plt.plot(predicted,'r+',  color = 'green', label = 'Predicted')\n",
        "plt.title('Actual(Blue) vs Predicted(Green)')\n",
        "plt.ylabel('Rain Attenuation')\n",
        "plt.xlabel('Time')\n",
        "plt.show()"
      ],
      "execution_count": null,
      "outputs": [
        {
          "output_type": "display_data",
          "data": {
            "image/png": "[encoded data removed]",
            "text/plain": [
              "<Figure size 432x288 with 1 Axes>"
            ]
          },
          "metadata": {
            "tags": [],
            "needs_background": "light"
          }
        }
      ]
    },
    {
      "cell_type": "code",
      "metadata": {
        "id": "PcSoDfyZKvBB",
        "colab": {
          "base_uri": "https://localhost:8080/",
          "height": 295
        },
        "outputId": "43d4c218-4af0-41b5-87f4-56f0d7526cac"
      },
      "source": [
        "plt.plot(predicted, 'g')\n",
        "plt.title('Predicted')\n",
        "plt.ylabel('Rain Attenuation')\n",
        "plt.xlabel('Time')\n",
        "plt.show()"
      ],
      "execution_count": null,
      "outputs": [
        {
          "output_type": "display_data",
          "data": {
            "image/png": "[encoded data removed]",
            "text/plain": [
              "<Figure size 432x288 with 1 Axes>"
            ]
          },
          "metadata": {
            "tags": [],
            "needs_background": "light"
          }
        }
      ]
    },
    {
      "cell_type": "code",
      "metadata": {
        "id": "wMH46DLxVl-U",
        "colab": {
          "base_uri": "https://localhost:8080/",
          "height": 295
        },
        "outputId": "b6b3313e-b85b-4ec7-824e-2c84c0114bb5"
      },
      "source": [
        "plt.plot(ttest, 'b')\n",
        "plt.title('Actual')\n",
        "plt.ylabel('Rain Attenuation')\n",
        "plt.xlabel('Time')\n",
        "plt.show()"
      ],
      "execution_count": null,
      "outputs": [
        {
          "output_type": "display_data",
          "data": {
            "image/png": "[encoded data removed]",
            "text/plain": [
              "<Figure size 432x288 with 1 Axes>"
            ]
          },
          "metadata": {
            "tags": [],
            "needs_background": "light"
          }
        }
      ]
    },
    {
      "cell_type": "code",
      "metadata": {
        "id": "K-A1WQ8iVsZL",
        "colab": {
          "base_uri": "https://localhost:8080/"
        },
        "outputId": "bebee7b9-3b7e-411d-810c-0e81560e694f"
      },
      "source": [
        "t =  model.predict(x_train)\n",
        "t = np.reshape(t,(t.shape[0],t.shape[1]))\n",
        "t = sc.inverse_transform(t)\n",
        "ttrain = sc.inverse_transform(y_train)\n",
        "score1 = math.sqrt(mean_squared_error(ttrain,t))\n",
        "print(\"The rmse score of Rain Attenuation : \",score1)"
      ],
      "execution_count": null,
      "outputs": [
        {
          "output_type": "stream",
          "text": [
            "The rmse score of Rain Attenuation :  1.3174034898835902\n"
          ],
          "name": "stdout"
        }
      ]
    },
    {
      "cell_type": "code",
      "metadata": {
        "id": "nc-e3e3trj3F",
        "colab": {
          "base_uri": "https://localhost:8080/"
        },
        "outputId": "574431c5-5e86-4c8c-ceca-1d8bc863c39f"
      },
      "source": [
        "predicted[:1] # predicted first 60 seconds of rain attenuation"
      ],
      "execution_count": null,
      "outputs": [
        {
          "output_type": "execute_result",
          "data": {
            "text/plain": [
              "array([[1.2343432 , 3.9989603 , 2.1352866 , 2.4827669 , 3.7369666 ,\n",
              "        1.0377719 , 0.9946356 , 3.4995234 , 1.1004592 , 2.2608025 ,\n",
              "        4.5870237 , 1.9014148 , 0.43165866, 3.2442162 , 1.5795383 ,\n",
              "        1.4151632 , 4.6463284 , 1.6062218 , 1.4423506 , 4.470876  ,\n",
              "        0.8624522 , 0.9977669 , 4.151449  , 1.8500603 , 0.9455093 ,\n",
              "        4.4993367 , 1.2776161 , 1.576815  , 3.636335  , 0.7869718 ,\n",
              "        2.5727248 , 3.152657  , 1.2093178 , 2.0206552 , 3.9997764 ,\n",
              "        2.095389  , 0.3172461 , 3.889475  , 1.7363737 , 1.3524169 ,\n",
              "        4.331456  , 1.1870089 , 1.0739145 , 4.297187  , 1.388339  ,\n",
              "        1.2949773 , 4.5498796 , 0.8642794 , 0.8886235 , 3.9258792 ,\n",
              "        1.7967838 , 2.6035488 , 3.4300532 , 1.2344089 , 1.3382386 ,\n",
              "        3.4818916 , 1.0646135 , 1.5479172 , 4.8564987 , 1.808579  ]],\n",
              "      dtype=float32)"
            ]
          },
          "metadata": {
            "tags": []
          },
          "execution_count": 19
        }
      ]
    },
    {
      "cell_type": "code",
      "metadata": {
        "id": "U3m0Xxrsrjlr",
        "colab": {
          "base_uri": "https://localhost:8080/"
        },
        "outputId": "edbe8cce-cdd8-4c6c-eb43-0921af3019a0"
      },
      "source": [
        "ttest[:1]# actual first 60 seconds of rain attenuation"
      ],
      "execution_count": null,
      "outputs": [
        {
          "output_type": "execute_result",
          "data": {
            "text/plain": [
              "array([[0.4863931 , 6.1096525 , 0.93802633, 0.80087681, 6.0924591 ,\n",
              "        0.57946145, 0.47976963, 6.6557815 , 0.64998772, 0.70990312,\n",
              "        6.2856115 , 0.44567526, 0.82983904, 6.1649184 , 0.80096164,\n",
              "        0.63962572, 6.1103466 , 0.81093895, 0.63842396, 6.2718592 ,\n",
              "        0.85456189, 0.67741301, 6.5479161 , 0.59402715, 0.77328302,\n",
              "        7.1811098 , 0.43848655, 0.71462997, 6.7417819 , 0.86233653,\n",
              "        0.86406537, 6.327605  , 0.71256264, 0.63866204, 6.2677843 ,\n",
              "        0.39102295, 0.57119504, 6.4135442 , 0.50237194, 0.7004401 ,\n",
              "        6.3500915 , 0.53044744, 0.72251712, 6.3263414 , 0.77745445,\n",
              "        0.6293441 , 7.3442018 , 0.51665262, 0.61349154, 7.1824108 ,\n",
              "        0.54376722, 0.64023796, 6.8949164 , 0.68273749, 0.72967855,\n",
              "        6.7080391 , 0.61972444, 0.64035134, 6.7887398 , 0.60699375]])"
            ]
          },
          "metadata": {
            "tags": []
          },
          "execution_count": 20
        }
      ]
    },
    {
      "cell_type": "code",
      "metadata": {
        "id": "M_13lq83bNIs"
      },
      "source": [
        "model_json = model.to_json()\n",
        "with open(\"model.json\", \"w\") as json_file:\n",
        "    json_file.write(model_json)\n",
        "# serialize weights to HDF5\n",
        "model.save_weights(\"model.h5\")"
      ],
      "execution_count": null,
      "outputs": []
    },
    {
      "cell_type": "code",
      "metadata": {
        "id": "wgqhOg0PMCRV",
        "colab": {
          "base_uri": "https://localhost:8080/",
          "height": 626
        },
        "outputId": "1c086a7c-79d1-4edb-d691-8b308faa48b5"
      },
      "source": [
        "real_df = pd.read_csv('/content/aug1707.csv')\n",
        "print(real_df.head())\n",
        "\n",
        "real_data = real_df[['Time','Rain_Attenuation']]\n",
        "print(real_data.head())\n",
        "\n",
        "def decimal_time(time):\n",
        "    hours = int(time)\n",
        "    minutes = (time*60) % 60\n",
        "    seconds = (time*3600) % 60\n",
        "    f =  (time*3600000000) % 1000000\n",
        "    return (\"%d:%02d:%02d.%03d\" % (hours, minutes, seconds,f))\n",
        "\n",
        "real_data['Time'] = real_data['Time'].apply(lambda x : decimal_time(x))\n",
        "real_data['Time'] = pd.to_datetime(real_data['Time'], format='%H:%M:%S.%f')\n",
        "real_data = real_data.drop_duplicates(subset = ['Time'])\n",
        "print(real_data.shape, real_df.shape)\n",
        "real_data1 = real_data.set_index('Time')\n",
        "print(real_data.head())\n",
        "real_data1.plot()\n",
        "\n",
        "from sklearn.preprocessing import MinMaxScaler\n",
        "real_dat = real_data1.values\n",
        "sc = MinMaxScaler(feature_range=(0,1))\n",
        "real_test = sc.fit_transform(real_dat)\n",
        "\n",
        "print(real_test.shape)"
      ],
      "execution_count": null,
      "outputs": [
        {
          "output_type": "stream",
          "text": [
            "   Unnamed: 0      Time  Rain_rate  Rain_Attenuation\n",
            "0           0  3.293891   0.099907          0.000361\n",
            "1           1  3.294171   0.099968          0.006667\n",
            "2           2  3.294451   0.100136          0.140382\n",
            "3           3  3.294731   0.100191          0.067730\n",
            "4           4  3.296411   0.099586          0.111982\n",
            "       Time  Rain_Attenuation\n",
            "0  3.293891          0.000361\n",
            "1  3.294171          0.006667\n",
            "2  3.294451          0.140382\n",
            "3  3.294731          0.067730\n",
            "4  3.296411          0.111982\n",
            "(5168, 2) (5168, 4)\n",
            "                        Time  Rain_Attenuation\n",
            "0 1900-01-01 03:17:38.796000          0.000361\n",
            "1 1900-01-01 03:17:39.159600          0.006667\n",
            "2 1900-01-01 03:17:40.239600          0.140382\n",
            "3 1900-01-01 03:17:41.319600          0.067730\n",
            "4 1900-01-01 03:17:47.799600          0.111982\n",
            "(5168, 1)\n"
          ],
          "name": "stdout"
        },
        {
          "output_type": "display_data",
          "data": {
            "image/png": "[encoded data removed]",
            "text/plain": [
              "<Figure size 432x288 with 1 Axes>"
            ]
          },
          "metadata": {
            "tags": [],
            "needs_background": "light"
          }
        }
      ]
    },
    {
      "cell_type": "code",
      "metadata": {
        "id": "z2ua6gAhEn3u",
        "colab": {
          "base_uri": "https://localhost:8080/"
        },
        "outputId": "e2695a58-bb81-47b4-89d3-c187461ee4b2"
      },
      "source": [
        "real_x_test = []\n",
        "real_y_test = []\n",
        "\n",
        "n_future = 60\n",
        "n_past = 30\n",
        "\n",
        "for i in range(0,len(real_test)-n_past-n_future+1):\n",
        "    real_x_test.append(real_test[i : i + n_past , 0])     \n",
        "    real_y_test.append(real_test[i + n_past : i + n_past + n_future , 0 ])\n",
        "\n",
        "\n",
        "real_x_test , real_y_test = np.array(real_x_test), np.array(real_y_test)\n",
        "real_x_test = np.reshape(real_x_test, (real_x_test.shape[0] , real_x_test.shape[1], 1))\n",
        "\n",
        "real_x_test.shape,real_y_test.shape"
      ],
      "execution_count": null,
      "outputs": [
        {
          "output_type": "execute_result",
          "data": {
            "text/plain": [
              "((5079, 30, 1), (5079, 60))"
            ]
          },
          "metadata": {
            "tags": []
          },
          "execution_count": 24
        }
      ]
    },
    {
      "cell_type": "code",
      "metadata": {
        "id": "BgSkD-czI0B0"
      },
      "source": [
        "ox = real_x_test[:30, :, :]\n",
        "scores = []\n",
        "actual = []\n",
        "predict = []\n",
        "\n",
        "i = 0\n",
        "while i < (real_x_test.shape[0]-9):\n",
        "  ox = np.reshape(ox, (ox.shape[0] , ox.shape[1], 1))\n",
        "  oy = real_y_test[i:i+30, ]\n",
        "  oy = np.reshape(oy, (oy.shape[0] ,60))\n",
        "  predicted = model.predict(ox)\n",
        "  predicted = np.reshape(predicted,(predicted.shape[0],predicted.shape[1]))\n",
        "  ox = predicted\n",
        "  predicted = sc.inverse_transform(predicted)\n",
        "  ttest = sc.inverse_transform(oy)\n",
        "  score = math.sqrt(mean_squared_error(ttest,predicted))\n",
        "  actual.append(ttest)\n",
        "  predict.append(predicted)\n",
        "  scores.append(score)\n",
        "  i = i+30"
      ],
      "execution_count": null,
      "outputs": []
    },
    {
      "cell_type": "code",
      "metadata": {
        "colab": {
          "base_uri": "https://localhost:8080/"
        },
        "id": "RguuMWuRnwV6",
        "outputId": "8ebe584c-4472-4573-f096-b2f95f3aedc6"
      },
      "source": [
        "p_test = model.predict(real_x_test)\n",
        "p_test = np.reshape(p_test,(p_test.shape[0],p_test.shape[1]))\n",
        "p_test = sc.inverse_transform(p_test)\n",
        "ttest = sc.inverse_transform(real_y_test)\n",
        "score = math.sqrt(mean_squared_error(ttest,p_test))\n",
        "actual[1]"
      ],
      "execution_count": null,
      "outputs": [
        {
          "output_type": "execute_result",
          "data": {
            "text/plain": [
              "array([0.12256277, 0.00306133, 0.05123571, 0.1015245 , 0.1372842 ,\n",
              "       0.10681927, 0.31269565, 0.13741728, 0.0447897 , 0.06321313,\n",
              "       0.35605625, 0.05097012, 0.0351227 , 0.04066193, 0.02894479,\n",
              "       0.11262259, 0.24139886, 0.12308283, 0.25137169, 0.21705975,\n",
              "       0.34319876, 0.14606888, 0.24295164, 0.07404669, 0.02159774,\n",
              "       0.10243109, 0.25383495, 0.12437695, 0.19389883, 0.08708235,\n",
              "       0.0714739 , 0.26095866, 0.15822064, 0.36358779, 0.18083971,\n",
              "       0.17282225, 0.02443264, 0.0334454 , 0.06411883, 0.10616646,\n",
              "       0.164419  , 0.23841478, 0.0558717 , 0.02906544, 0.10888661,\n",
              "       0.00203648, 0.14103499, 0.59652683, 0.26109216, 0.31178421,\n",
              "       0.05471265, 0.03216635, 0.0852699 , 0.18394055, 0.36605806,\n",
              "       0.35111712, 0.08475035, 0.17553492, 0.08694943, 0.03525544])"
            ]
          },
          "metadata": {
            "tags": []
          },
          "execution_count": 27
        }
      ]
    },
    {
      "cell_type": "code",
      "metadata": {
        "colab": {
          "base_uri": "https://localhost:8080/"
        },
        "id": "VcD2p3DunwS_",
        "outputId": "a7b0bb97-b253-407b-8291-0fe2c6195b84"
      },
      "source": [
        "predict[1]"
      ],
      "execution_count": null,
      "outputs": [
        {
          "output_type": "execute_result",
          "data": {
            "text/plain": [
              "array([0.17799541, 0.21922499, 0.25114393, 0.20433943, 0.19850767,\n",
              "       0.19582298, 0.20857911, 0.21526392, 0.20337293, 0.26255518,\n",
              "       0.22244406, 0.19075726, 0.24015418, 0.18240976, 0.27193692,\n",
              "       0.23646988, 0.20671234, 0.2518822 , 0.23767766, 0.20567589,\n",
              "       0.23674408, 0.25529784, 0.22698689, 0.18472691, 0.22196494,\n",
              "       0.24563886, 0.30829415, 0.24246554, 0.23089528, 0.227417  ,\n",
              "       0.23347935, 0.23510309, 0.28076255, 0.28795508, 0.27419725,\n",
              "       0.20952737, 0.24110672, 0.256994  , 0.2926906 , 0.26604128,\n",
              "       0.23215404, 0.25051373, 0.28684807, 0.19141857, 0.30265513,\n",
              "       0.26253098, 0.28547755, 0.25499427, 0.21461828, 0.2882735 ,\n",
              "       0.29145974, 0.26462987, 0.3055415 , 0.25391418, 0.29690257,\n",
              "       0.22853604, 0.28720012, 0.32890737, 0.31256658, 0.25789598],\n",
              "      dtype=float32)"
            ]
          },
          "metadata": {
            "tags": []
          },
          "execution_count": 28
        }
      ]
    },
    {
      "cell_type": "code",
      "metadata": {
        "colab": {
          "base_uri": "https://localhost:8080/",
          "height": 573
        },
        "id": "_oPh8bTZv2It",
        "outputId": "f5c45272-f78c-4be3-8904-40049a76d1a5"
      },
      "source": [
        "plt.plot(ttest, 'b')\n",
        "plt.title('Actual')\n",
        "plt.ylabel('Rain Attenuation (db)')\n",
        "plt.xlabel('Time (seconds)')\n",
        "plt.show()\n",
        "\n",
        "plt.plot(p_test, 'g')\n",
        "plt.title('Predicted')\n",
        "plt.ylabel('Rain Attenuation (db)')\n",
        "plt.xlabel('Time (seconds)')\n",
        "plt.show()"
      ],
      "execution_count": null,
      "outputs": [
        {
          "output_type": "display_data",
          "data": {
            "image/png": "[encoded data removed]",
            "text/plain": [
              "<Figure size 432x288 with 1 Axes>"
            ]
          },
          "metadata": {
            "tags": [],
            "needs_background": "light"
          }
        },
        {
          "output_type": "display_data",
          "data": {
            "image/png": "[encoded data removed]",
            "text/plain": [
              "<Figure size 432x288 with 1 Axes>"
            ]
          },
          "metadata": {
            "tags": [],
            "needs_background": "light"
          }
        }
      ]
    },
    {
      "cell_type": "code",
      "metadata": {
        "colab": {
          "base_uri": "https://localhost:8080/"
        },
        "id": "3LVWANIDv73F",
        "outputId": "b0f3bcd8-3bb3-40f5-8526-b869b62ae942"
      },
      "source": [
        "print(sum(scores)/len(scores))"
      ],
      "execution_count": null,
      "outputs": [
        {
          "output_type": "stream",
          "text": [
            "0.5604182911480291\n"
          ],
          "name": "stdout"
        }
      ]
    },
    {
      "cell_type": "code",
      "metadata": {
        "id": "h7skLH9DyPOe"
      },
      "source": [
        "plt.plot(scores)\n",
        "plt.title('RMSE SCORE')\n",
        "plt.ylabel('rmse value')\n",
        "plt.xlabel('iteration')\n",
        "plt.show()"
      ],
      "execution_count": null,
      "outputs": []
    }
  ]
}