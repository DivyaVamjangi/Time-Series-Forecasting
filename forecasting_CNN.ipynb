{
  "nbformat": 4,
  "nbformat_minor": 0,
  "metadata": {
    "colab": {
      "name": "forecasting_CNN.ipynb",
      "provenance": [],
      "collapsed_sections": []
    },
    "kernelspec": {
      "name": "python3",
      "display_name": "Python 3"
    },
    "language_info": {
      "name": "python"
    },
    "accelerator": "GPU"
  },
  "cells": [
    {
      "cell_type": "code",
      "metadata": {
        "id": "T5OzoYzVuQxF"
      },
      "source": [
        "import numpy as np\n",
        "import matplotlib.pyplot as plt\n",
        "import pandas as pd\n",
        "import warnings\n",
        "warnings.filterwarnings('ignore')\n",
        "import math\n",
        "from sklearn.metrics import mean_squared_error\n",
        "\n",
        "import keras\n",
        "from keras.models import Model\n",
        "from keras.models import Sequential\n",
        "from keras.layers import Convolution1D, ZeroPadding1D, MaxPooling1D, BatchNormalization, Activation, Dropout, Flatten, Dense\n",
        "from keras.callbacks import EarlyStopping, ModelCheckpoint"
      ],
      "execution_count": null,
      "outputs": []
    },
    {
      "cell_type": "code",
      "metadata": {
        "colab": {
          "base_uri": "https://localhost:8080/",
          "height": 202
        },
        "id": "KIfFUJ7tuTzd",
        "outputId": "a0b0a798-ff5f-42bf-e584-9aa6412aa7bc"
      },
      "source": [
        "df = pd.read_csv('/content/data_2005.csv')\n",
        "df.head()"
      ],
      "execution_count": null,
      "outputs": [
        {
          "output_type": "execute_result",
          "data": {
            "text/html": [
              "<div>\n",
              "<style scoped>\n",
              "    .dataframe tbody tr th:only-of-type {\n",
              "        vertical-align: middle;\n",
              "    }\n",
              "\n",
              "    .dataframe tbody tr th {\n",
              "        vertical-align: top;\n",
              "    }\n",
              "\n",
              "    .dataframe thead th {\n",
              "        text-align: right;\n",
              "    }\n",
              "</style>\n",
              "<table border=\"1\" class=\"dataframe\">\n",
              "  <thead>\n",
              "    <tr style=\"text-align: right;\">\n",
              "      <th></th>\n",
              "      <th>Unnamed: 0</th>\n",
              "      <th>Time</th>\n",
              "      <th>Rain_rate</th>\n",
              "      <th>Rain_Attenuation</th>\n",
              "    </tr>\n",
              "  </thead>\n",
              "  <tbody>\n",
              "    <tr>\n",
              "      <th>0</th>\n",
              "      <td>0</td>\n",
              "      <td>2.083222</td>\n",
              "      <td>0.123969</td>\n",
              "      <td>0.277891</td>\n",
              "    </tr>\n",
              "    <tr>\n",
              "      <th>1</th>\n",
              "      <td>1</td>\n",
              "      <td>2.083502</td>\n",
              "      <td>0.122079</td>\n",
              "      <td>0.374563</td>\n",
              "    </tr>\n",
              "    <tr>\n",
              "      <th>2</th>\n",
              "      <td>2</td>\n",
              "      <td>2.083782</td>\n",
              "      <td>0.120313</td>\n",
              "      <td>0.309713</td>\n",
              "    </tr>\n",
              "    <tr>\n",
              "      <th>3</th>\n",
              "      <td>3</td>\n",
              "      <td>2.084062</td>\n",
              "      <td>0.118503</td>\n",
              "      <td>0.406240</td>\n",
              "    </tr>\n",
              "    <tr>\n",
              "      <th>4</th>\n",
              "      <td>4</td>\n",
              "      <td>2.084342</td>\n",
              "      <td>0.116721</td>\n",
              "      <td>0.329704</td>\n",
              "    </tr>\n",
              "  </tbody>\n",
              "</table>\n",
              "</div>"
            ],
            "text/plain": [
              "   Unnamed: 0      Time  Rain_rate  Rain_Attenuation\n",
              "0           0  2.083222   0.123969          0.277891\n",
              "1           1  2.083502   0.122079          0.374563\n",
              "2           2  2.083782   0.120313          0.309713\n",
              "3           3  2.084062   0.118503          0.406240\n",
              "4           4  2.084342   0.116721          0.329704"
            ]
          },
          "metadata": {
            "tags": []
          },
          "execution_count": 2
        }
      ]
    },
    {
      "cell_type": "code",
      "metadata": {
        "colab": {
          "base_uri": "https://localhost:8080/",
          "height": 202
        },
        "id": "KzSSiUzluTwt",
        "outputId": "24b79e6c-6305-46b9-a310-a0b8f223daf1"
      },
      "source": [
        "data = df[['Time','Rain_Attenuation']]\n",
        "data.head()"
      ],
      "execution_count": null,
      "outputs": [
        {
          "output_type": "execute_result",
          "data": {
            "text/html": [
              "<div>\n",
              "<style scoped>\n",
              "    .dataframe tbody tr th:only-of-type {\n",
              "        vertical-align: middle;\n",
              "    }\n",
              "\n",
              "    .dataframe tbody tr th {\n",
              "        vertical-align: top;\n",
              "    }\n",
              "\n",
              "    .dataframe thead th {\n",
              "        text-align: right;\n",
              "    }\n",
              "</style>\n",
              "<table border=\"1\" class=\"dataframe\">\n",
              "  <thead>\n",
              "    <tr style=\"text-align: right;\">\n",
              "      <th></th>\n",
              "      <th>Time</th>\n",
              "      <th>Rain_Attenuation</th>\n",
              "    </tr>\n",
              "  </thead>\n",
              "  <tbody>\n",
              "    <tr>\n",
              "      <th>0</th>\n",
              "      <td>2.083222</td>\n",
              "      <td>0.277891</td>\n",
              "    </tr>\n",
              "    <tr>\n",
              "      <th>1</th>\n",
              "      <td>2.083502</td>\n",
              "      <td>0.374563</td>\n",
              "    </tr>\n",
              "    <tr>\n",
              "      <th>2</th>\n",
              "      <td>2.083782</td>\n",
              "      <td>0.309713</td>\n",
              "    </tr>\n",
              "    <tr>\n",
              "      <th>3</th>\n",
              "      <td>2.084062</td>\n",
              "      <td>0.406240</td>\n",
              "    </tr>\n",
              "    <tr>\n",
              "      <th>4</th>\n",
              "      <td>2.084342</td>\n",
              "      <td>0.329704</td>\n",
              "    </tr>\n",
              "  </tbody>\n",
              "</table>\n",
              "</div>"
            ],
            "text/plain": [
              "       Time  Rain_Attenuation\n",
              "0  2.083222          0.277891\n",
              "1  2.083502          0.374563\n",
              "2  2.083782          0.309713\n",
              "3  2.084062          0.406240\n",
              "4  2.084342          0.329704"
            ]
          },
          "metadata": {
            "tags": []
          },
          "execution_count": 3
        }
      ]
    },
    {
      "cell_type": "code",
      "metadata": {
        "id": "bk0vUdefuTtV"
      },
      "source": [
        "def decimal_time(time):\n",
        "    hours = int(time)\n",
        "    minutes = (time*60) % 60\n",
        "    seconds = (time*3600) % 60\n",
        "    f =  (time*3600000000) % 1000000\n",
        "    return (\"%d:%02d:%02d.%03d\" % (hours, minutes, seconds,f))"
      ],
      "execution_count": null,
      "outputs": []
    },
    {
      "cell_type": "code",
      "metadata": {
        "colab": {
          "base_uri": "https://localhost:8080/",
          "height": 418
        },
        "id": "8Tkwx6iyuTq2",
        "outputId": "97946e95-0ebb-4ecf-9135-db620c47456c"
      },
      "source": [
        "data['Time'] = data['Time'].apply(lambda x : decimal_time(x))\n",
        "data['Time'] = pd.to_datetime(data['Time'], format='%H:%M:%S.%f')\n",
        "data = data.drop_duplicates(subset = ['Time'])\n",
        "print(data.shape, df.shape)\n",
        "data1 = data.set_index('Time')\n",
        "print(data.head())\n",
        "data1.plot()"
      ],
      "execution_count": null,
      "outputs": [
        {
          "output_type": "stream",
          "text": [
            "(87369, 2) (87387, 4)\n",
            "                        Time  Rain_Attenuation\n",
            "0 1900-01-01 02:04:59.599919          0.277891\n",
            "1 1900-01-01 02:05:00.607920          0.374563\n",
            "2 1900-01-01 02:05:01.615920          0.309713\n",
            "3 1900-01-01 02:05:02.623920          0.406240\n",
            "4 1900-01-01 02:05:03.631920          0.329704\n"
          ],
          "name": "stdout"
        },
        {
          "output_type": "execute_result",
          "data": {
            "text/plain": [
              "<matplotlib.axes._subplots.AxesSubplot at 0x7f94001ae690>"
            ]
          },
          "metadata": {
            "tags": []
          },
          "execution_count": 5
        },
        {
          "output_type": "display_data",
          "data": {
            "image/png": "[encoded data removed]",
            "text/plain": [
              "<Figure size 432x288 with 1 Axes>"
            ]
          },
          "metadata": {
            "tags": [],
            "needs_background": "light"
          }
        }
      ]
    },
    {
      "cell_type": "code",
      "metadata": {
        "colab": {
          "base_uri": "https://localhost:8080/"
        },
        "id": "foHUSCo0uTnK",
        "outputId": "cec21155-51cb-4900-d334-5cdf5178ad69"
      },
      "source": [
        "from sklearn.preprocessing import MinMaxScaler\n",
        "dat = data1.values\n",
        "sc = MinMaxScaler(feature_range=(0,1))\n",
        "scaled = sc.fit_transform(dat)\n",
        "\n",
        "train = scaled[:52370, :]\n",
        "val =  scaled[52370:69870,:]\n",
        "test = scaled[69870:, :]\n",
        "train.shape, test.shape, val.shape"
      ],
      "execution_count": null,
      "outputs": [
        {
          "output_type": "execute_result",
          "data": {
            "text/plain": [
              "((52370, 1), (17499, 1), (17500, 1))"
            ]
          },
          "metadata": {
            "tags": []
          },
          "execution_count": 6
        }
      ]
    },
    {
      "cell_type": "code",
      "metadata": {
        "colab": {
          "base_uri": "https://localhost:8080/"
        },
        "id": "MfvjJe-yuTkz",
        "outputId": "68f4c8db-f3bf-4266-cf0b-f795d99cda6b"
      },
      "source": [
        "x_train = []\n",
        "y_train = []\n",
        "x_test = []\n",
        "y_test = []\n",
        "x_val = []\n",
        "y_val = []\n",
        "\n",
        "n_future = 60\n",
        "n_past = 30\n",
        "\n",
        "for i in range(0,len(train)-n_past-n_future+1):\n",
        "    x_train.append(train[i : i + n_past , 0])     \n",
        "    y_train.append(train[i + n_past : i + n_past + n_future , 0 ])\n",
        "\n",
        "for i in range(0,len(val)-n_past-n_future+1):\n",
        "    x_val.append(val[i : i + n_past , 0])     \n",
        "    y_val.append(val[i + n_past : i + n_past + n_future , 0 ])\n",
        "\n",
        "for i in range(0,len(test)-n_past-n_future+1):\n",
        "    x_test.append(test[i : i + n_past , 0])     \n",
        "    y_test.append(test[i + n_past : i + n_past + n_future , 0 ])\n",
        "\n",
        "\n",
        "x_train , y_train = np.array(x_train), np.array(y_train)\n",
        "x_test , y_test = np.array(x_test), np.array(y_test)\n",
        "x_val , y_val = np.array(x_val), np.array(y_val)\n",
        "\n",
        "x_train = np.reshape(x_train, (x_train.shape[0] , x_train.shape[1], 1) )\n",
        "x_test = np.reshape(x_test, (x_test.shape[0] , x_test.shape[1], 1))\n",
        "x_val = np.reshape(x_val, (x_val.shape[0] , x_val.shape[1], 1))\n",
        "\n",
        "x_train.shape,y_train.shape, x_test.shape,y_test.shape, x_val.shape, y_val.shape"
      ],
      "execution_count": null,
      "outputs": [
        {
          "output_type": "execute_result",
          "data": {
            "text/plain": [
              "((52281, 30, 1),\n",
              " (52281, 60),\n",
              " (17410, 30, 1),\n",
              " (17410, 60),\n",
              " (17411, 30, 1),\n",
              " (17411, 60))"
            ]
          },
          "metadata": {
            "tags": []
          },
          "execution_count": 7
        }
      ]
    },
    {
      "cell_type": "code",
      "metadata": {
        "colab": {
          "base_uri": "https://localhost:8080/"
        },
        "id": "_vJCNTreuTg7",
        "outputId": "bac51de3-65d7-451a-ea7a-4750c0e30407"
      },
      "source": [
        "model = Sequential()\n",
        "\n",
        "model.add(Convolution1D(4096, kernel_size=3,padding = 'same',activation='relu', input_shape=(x_train.shape[1],1)))\n",
        "model.add(BatchNormalization())\n",
        "model.add(MaxPooling1D(pool_size=(2)))\n",
        "\n",
        "model.add(Convolution1D(2048,kernel_size=3,padding = 'same', activation='relu'))\n",
        "model.add(BatchNormalization())\n",
        "model.add(MaxPooling1D(pool_size=(2)))\n",
        "model.add(Flatten())\n",
        "\n",
        "model.add(Dense(2048, activation='tanh'))\n",
        "model.add(Dropout(0.2))\n",
        "\n",
        "model.add(Dense(1024, activation='tanh'))\n",
        "model.add(Dropout(0.2))\n",
        "\n",
        "model.add(Dense(512, activation='relu'))\n",
        "model.add(Dropout(0.2))\n",
        "\n",
        "model.add(Dense(n_future, activation='softmax'))\n",
        "\n",
        "model.compile(optimizer='adam', loss='mean_squared_error')\n",
        "es = EarlyStopping(monitor='val_loss', mode='min', verbose=1, patience= 3)\n",
        "history = model.fit(x_train, y_train, epochs= 50, batch_size= 32 , validation_data=(x_val, y_val), callbacks = [es], verbose = 1)"
      ],
      "execution_count": null,
      "outputs": [
        {
          "output_type": "stream",
          "text": [
            "Epoch 1/50\n",
            "1634/1634 [==============================] - 215s 113ms/step - loss: 0.1070 - val_loss: 0.0613\n",
            "Epoch 2/50\n",
            "1634/1634 [==============================] - 185s 113ms/step - loss: 0.1039 - val_loss: 0.0613\n",
            "Epoch 3/50\n",
            "1634/1634 [==============================] - 185s 113ms/step - loss: 0.1039 - val_loss: 0.0612\n",
            "Epoch 4/50\n",
            "1634/1634 [==============================] - 185s 113ms/step - loss: 0.1030 - val_loss: 0.0613\n",
            "Epoch 5/50\n",
            "1634/1634 [==============================] - 185s 113ms/step - loss: 0.1041 - val_loss: 0.0613\n",
            "Epoch 6/50\n",
            "1634/1634 [==============================] - 185s 113ms/step - loss: 0.1037 - val_loss: 0.0613\n",
            "Epoch 00006: early stopping\n"
          ],
          "name": "stdout"
        }
      ]
    },
    {
      "cell_type": "code",
      "metadata": {
        "colab": {
          "base_uri": "https://localhost:8080/"
        },
        "id": "XmjVFV-suTfH",
        "outputId": "ab24359a-242e-43ab-d848-36392256016f"
      },
      "source": [
        "model.summary()"
      ],
      "execution_count": null,
      "outputs": [
        {
          "output_type": "stream",
          "text": [
            "Model: \"sequential\"\n",
            "_________________________________________________________________\n",
            "Layer (type)                 Output Shape              Param #   \n",
            "=================================================================\n",
            "conv1d (Conv1D)              (None, 30, 4096)          16384     \n",
            "_________________________________________________________________\n",
            "batch_normalization (BatchNo (None, 30, 4096)          16384     \n",
            "_________________________________________________________________\n",
            "max_pooling1d (MaxPooling1D) (None, 15, 4096)          0         \n",
            "_________________________________________________________________\n",
            "conv1d_1 (Conv1D)            (None, 15, 2048)          25167872  \n",
            "_________________________________________________________________\n",
            "batch_normalization_1 (Batch (None, 15, 2048)          8192      \n",
            "_________________________________________________________________\n",
            "max_pooling1d_1 (MaxPooling1 (None, 7, 2048)           0         \n",
            "_________________________________________________________________\n",
            "flatten (Flatten)            (None, 14336)             0         \n",
            "_________________________________________________________________\n",
            "dense (Dense)                (None, 2048)              29362176  \n",
            "_________________________________________________________________\n",
            "dropout (Dropout)            (None, 2048)              0         \n",
            "_________________________________________________________________\n",
            "dense_1 (Dense)              (None, 1024)              2098176   \n",
            "_________________________________________________________________\n",
            "dropout_1 (Dropout)          (None, 1024)              0         \n",
            "_________________________________________________________________\n",
            "dense_2 (Dense)              (None, 512)               524800    \n",
            "_________________________________________________________________\n",
            "dropout_2 (Dropout)          (None, 512)               0         \n",
            "_________________________________________________________________\n",
            "dense_3 (Dense)              (None, 60)                30780     \n",
            "=================================================================\n",
            "Total params: 57,224,764\n",
            "Trainable params: 57,212,476\n",
            "Non-trainable params: 12,288\n",
            "_________________________________________________________________\n"
          ],
          "name": "stdout"
        }
      ]
    },
    {
      "cell_type": "code",
      "metadata": {
        "colab": {
          "base_uri": "https://localhost:8080/",
          "height": 279
        },
        "id": "NwimoUx-uTbK",
        "outputId": "67efd26e-e702-4286-9a35-8b8d8042b5d1"
      },
      "source": [
        "plt.plot(history.history['loss'])\n",
        "plt.plot(history.history['val_loss'])\n",
        "plt.xlabel('epoch')\n",
        "plt.ylabel('Loss')\n",
        "plt.legend(['train', 'validation'])\n",
        "\n",
        "plt.show()"
      ],
      "execution_count": null,
      "outputs": [
        {
          "output_type": "display_data",
          "data": {
            "image/png": "[encoded data removed]",
            "text/plain": [
              "<Figure size 432x288 with 1 Axes>"
            ]
          },
          "metadata": {
            "tags": [],
            "needs_background": "light"
          }
        }
      ]
    },
    {
      "cell_type": "code",
      "metadata": {
        "colab": {
          "base_uri": "https://localhost:8080/"
        },
        "id": "Kbw1fwfhuTZL",
        "outputId": "233bb49c-5151-4b5c-f9c4-73d879d068d3"
      },
      "source": [
        "predicted = model.predict(x_test)\n",
        "predicted = np.reshape(predicted,(predicted.shape[0],predicted.shape[1]))\n",
        "predicted = sc.inverse_transform(predicted)\n",
        "ttest = sc.inverse_transform(y_test)\n",
        "score = math.sqrt(mean_squared_error(ttest,predicted))\n",
        "print(\"The rmse score of Rain Attenuation : \",score)"
      ],
      "execution_count": null,
      "outputs": [
        {
          "output_type": "stream",
          "text": [
            "The rmse score of Rain Attenuation :  2.9924700568576905\n"
          ],
          "name": "stdout"
        }
      ]
    },
    {
      "cell_type": "code",
      "metadata": {
        "colab": {
          "base_uri": "https://localhost:8080/",
          "height": 281
        },
        "id": "-nIazrgiuTVe",
        "outputId": "0d57b8d0-d97a-42e8-9168-433006089912"
      },
      "source": [
        "plt.plot(ttest, 'ro',color = 'blue', label = 'Actual')\n",
        "plt.plot(predicted,'r+',  color = 'green', label = 'Predicted')\n",
        "plt.title('Actual(Blue) vs Predicted(Green)')\n",
        "plt.ylabel('Rain Attenuation')\n",
        "plt.show()"
      ],
      "execution_count": null,
      "outputs": [
        {
          "output_type": "display_data",
          "data": {
            "image/png": "[encoded data removed]",
            "text/plain": [
              "<Figure size 432x288 with 1 Axes>"
            ]
          },
          "metadata": {
            "tags": [],
            "needs_background": "light"
          }
        }
      ]
    },
    {
      "cell_type": "code",
      "metadata": {
        "colab": {
          "base_uri": "https://localhost:8080/",
          "height": 281
        },
        "id": "YUSuCr3MuTTZ",
        "outputId": "e38b2680-e630-4a6a-ea9a-570bbda3ae18"
      },
      "source": [
        "plt.plot(predicted, 'r+')\n",
        "plt.title('Predicted')\n",
        "plt.ylabel('Rain Attenuation')\n",
        "plt.show()"
      ],
      "execution_count": null,
      "outputs": [
        {
          "output_type": "display_data",
          "data": {
            "image/png": "[encoded data removed]",
            "text/plain": [
              "<Figure size 432x288 with 1 Axes>"
            ]
          },
          "metadata": {
            "tags": [],
            "needs_background": "light"
          }
        }
      ]
    },
    {
      "cell_type": "code",
      "metadata": {
        "colab": {
          "base_uri": "https://localhost:8080/"
        },
        "id": "ZSjda2VYuTQA",
        "outputId": "4ffc4bb7-886c-45c9-a510-6fcb9e5959bf"
      },
      "source": [
        "t =  model.predict(x_train)\n",
        "t = np.reshape(t,(t.shape[0],t.shape[1]))\n",
        "t = sc.inverse_transform(t)\n",
        "ttrain = sc.inverse_transform(y_train)\n",
        "score1 = math.sqrt(mean_squared_error(ttrain,t))\n",
        "print(\"The rmse score of Rain Attenuation : \",score1)"
      ],
      "execution_count": null,
      "outputs": [
        {
          "output_type": "stream",
          "text": [
            "The rmse score of Rain Attenuation :  4.220859508378055\n"
          ],
          "name": "stdout"
        }
      ]
    },
    {
      "cell_type": "code",
      "metadata": {
        "colab": {
          "base_uri": "https://localhost:8080/"
        },
        "id": "Srz55ylBuTOP",
        "outputId": "4d908eb1-21c1-457c-8fac-758f652120ec"
      },
      "source": [
        "predicted[:1] # predicted first 60 seconds of rain attenuation"
      ],
      "execution_count": null,
      "outputs": [
        {
          "output_type": "execute_result",
          "data": {
            "text/plain": [
              "array([[1.30060887e-08, 6.77098632e-01, 1.90287075e-08, 1.76521979e-08,\n",
              "        6.88420892e-01, 1.14000285e-08, 5.65079326e-08, 6.21412933e-01,\n",
              "        7.72194841e-09, 6.57963328e-09, 6.54104233e-01, 3.81350951e-09,\n",
              "        2.05572093e-08, 5.91862857e-01, 1.98678443e-08, 1.11417267e-08,\n",
              "        6.31642282e-01, 2.78098566e-09, 2.57661288e-08, 6.07146740e-01,\n",
              "        4.69549466e-09, 1.66247620e-08, 6.97604716e-01, 7.30182315e-09,\n",
              "        2.74950374e-09, 7.03276873e-01, 6.56779742e-09, 1.86972855e-08,\n",
              "        6.54082417e-01, 6.04622397e-09, 4.38860468e-08, 7.38593459e-01,\n",
              "        3.94830764e-08, 4.01121669e-09, 6.53825164e-01, 5.09626918e-09,\n",
              "        6.25998808e-09, 6.95396245e-01, 2.66154938e-08, 8.23120416e-09,\n",
              "        7.79871047e-01, 3.21909721e-09, 1.09838538e-08, 7.03207552e-01,\n",
              "        1.72015682e-08, 2.98832359e-09, 6.17255986e-01, 5.86058135e-09,\n",
              "        2.73205947e-09, 6.33930922e-01, 7.57045449e-09, 8.21022450e-09,\n",
              "        5.71520269e-01, 7.58305685e-09, 1.37873553e-08, 6.63580418e-01,\n",
              "        6.35439701e-09, 1.19557375e-09, 5.35958171e-01, 3.88052923e-09]],\n",
              "      dtype=float32)"
            ]
          },
          "metadata": {
            "tags": []
          },
          "execution_count": 15
        }
      ]
    },
    {
      "cell_type": "code",
      "metadata": {
        "colab": {
          "base_uri": "https://localhost:8080/"
        },
        "id": "wLOPo18XuxsH",
        "outputId": "0f2ed5a4-656c-4b5a-e8ff-686b4a482c2b"
      },
      "source": [
        "ttest[:1]# actual first 60 seconds of rain attenuation"
      ],
      "execution_count": null,
      "outputs": [
        {
          "output_type": "execute_result",
          "data": {
            "text/plain": [
              "array([[0.4863931 , 6.1096525 , 0.93802633, 0.80087681, 6.0924591 ,\n",
              "        0.57946145, 0.47976963, 6.6557815 , 0.64998772, 0.70990312,\n",
              "        6.2856115 , 0.44567526, 0.82983904, 6.1649184 , 0.80096164,\n",
              "        0.63962572, 6.1103466 , 0.81093895, 0.63842396, 6.2718592 ,\n",
              "        0.85456189, 0.67741301, 6.5479161 , 0.59402715, 0.77328302,\n",
              "        7.1811098 , 0.43848655, 0.71462997, 6.7417819 , 0.86233653,\n",
              "        0.86406537, 6.327605  , 0.71256264, 0.63866204, 6.2677843 ,\n",
              "        0.39102295, 0.57119504, 6.4135442 , 0.50237194, 0.7004401 ,\n",
              "        6.3500915 , 0.53044744, 0.72251712, 6.3263414 , 0.77745445,\n",
              "        0.6293441 , 7.3442018 , 0.51665262, 0.61349154, 7.1824108 ,\n",
              "        0.54376722, 0.64023796, 6.8949164 , 0.68273749, 0.72967855,\n",
              "        6.7080391 , 0.61972444, 0.64035134, 6.7887398 , 0.60699375]])"
            ]
          },
          "metadata": {
            "tags": []
          },
          "execution_count": 16
        }
      ]
    },
    {
      "cell_type": "code",
      "metadata": {
        "id": "lwszwnrDuxpW"
      },
      "source": [
        "model_json = model.to_json()\n",
        "with open(\"model.json\", \"w\") as json_file:\n",
        "    json_file.write(model_json)\n",
        "# serialize weights to HDF5\n",
        "model.save_weights(\"model.h5\")"
      ],
      "execution_count": null,
      "outputs": []
    },
    {
      "cell_type": "code",
      "metadata": {
        "colab": {
          "base_uri": "https://localhost:8080/",
          "height": 87
        },
        "id": "bKlwgdOkuxmx",
        "outputId": "5bd0a8b1-e279-4cb5-edb7-02eacb80a4c7"
      },
      "source": [
        "'''\n",
        "json_file = open('model.json', 'r')\n",
        "loaded_model_json = json_file.read()\n",
        "json_file.close()\n",
        "loaded_model = model_from_json(loaded_model_json)\n",
        "# load weights into new model\n",
        "loaded_model.load_weights(\"model.h5\")\n",
        "print(\"Loaded model from disk\")\n",
        " \n",
        "\n",
        "# evaluate loaded model on test data\n",
        "loaded_model.compile(optimizer='adam', loss='mean_squared_error',metrics=['acc'])\n",
        "score = loaded_model.evaluate(X, Y, verbose=0)\n",
        "print(\"%s: %.2f%%\" % (loaded_model.metrics_names[1], score[1]*100))\n",
        "\n",
        "loaded_model.summary()\n",
        "'''"
      ],
      "execution_count": null,
      "outputs": [
        {
          "output_type": "execute_result",
          "data": {
            "application/vnd.google.colaboratory.intrinsic+json": {
              "type": "string"
            },
            "text/plain": [
              "'\\njson_file = open(\\'model.json\\', \\'r\\')\\nloaded_model_json = json_file.read()\\njson_file.close()\\nloaded_model = model_from_json(loaded_model_json)\\n# load weights into new model\\nloaded_model.load_weights(\"model.h5\")\\nprint(\"Loaded model from disk\")\\n \\n\\n# evaluate loaded model on test data\\nloaded_model.compile(optimizer=\\'adam\\', loss=\\'mean_squared_error\\',metrics=[\\'acc\\'])\\nscore = loaded_model.evaluate(X, Y, verbose=0)\\nprint(\"%s: %.2f%%\" % (loaded_model.metrics_names[1], score[1]*100))\\n\\nloaded_model.summary()\\n'"
            ]
          },
          "metadata": {
            "tags": []
          },
          "execution_count": 18
        }
      ]
    }
  ]
}